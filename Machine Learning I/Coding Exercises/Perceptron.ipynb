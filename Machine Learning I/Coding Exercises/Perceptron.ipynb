{
 "cells": [
  {
   "cell_type": "code",
   "execution_count": 1,
   "metadata": {
    "collapsed": true
   },
   "outputs": [],
   "source": [
    "import numpy as np\n",
    "import matplotlib.pyplot as plt\n",
    "%matplotlib inline\n",
    "import seaborn as sb\n",
    "import random\n",
    "import pandas as pd"
   ]
  },
  {
   "cell_type": "markdown",
   "metadata": {},
   "source": [
    "### Visualize Decision Boundary"
   ]
  },
  {
   "cell_type": "code",
   "execution_count": 2,
   "metadata": {
    "collapsed": false
   },
   "outputs": [
    {
     "data": {
      "text/plain": [
       "<matplotlib.text.Text at 0x11b6c52e8>"
      ]
     },
     "execution_count": 2,
     "metadata": {},
     "output_type": "execute_result"
    },
    {
     "data": {
      "image/png": "[encoded data removed]",
      "text/plain": [
       "<matplotlib.figure.Figure at 0x11b5fbe80>"
      ]
     },
     "metadata": {},
     "output_type": "display_data"
    }
   ],
   "source": [
    "#Inputs and Targets\n",
    "toyWeight = np.array([1,1,2,3,3,3,4,4])\n",
    "earLength = np.array([4,5,4,5,1,2,1,2])\n",
    "targets = [0,0,0,0,1,1,1,1]\n",
    "\n",
    "#Create dataframeand plot with seaborn\n",
    "df = pd.DataFrame({'toyWeight':toyWeight, \"earlength\":earLength, \"targets\":targets})\n",
    "\n",
    "sb.lmplot(x = \"toyWeight\", y = \"earlength\", data = df,\n",
    "         hue = \"targets\", markers = [\"o\", \"x\"], fit_reg = False)\n",
    "\n",
    "plt.title(\"Ear Length vs Toy Weight\")"
   ]
  },
  {
   "cell_type": "markdown",
   "metadata": {},
   "source": [
    "### i. Initialize and Train Perceptron"
   ]
  },
  {
   "cell_type": "code",
   "execution_count": 12,
   "metadata": {
    "collapsed": false
   },
   "outputs": [
    {
     "name": "stdout",
     "output_type": "stream",
     "text": [
      "Weights: [ 2. -3.] Bias: [[ 0.]]\n"
     ]
    }
   ],
   "source": [
    "def perceptron(X, Y,epochs):\n",
    "    '''\n",
    "    Arguements:\n",
    "    X: input array\n",
    "    Y: target vector\n",
    "    \n",
    "    Returns: \n",
    "    w: 2x1 array of weights updated after initialization at zero\n",
    "    b: bias updated after initialization at zero\n",
    "    '''\n",
    "#     np.random.seed(1)\n",
    "    w = np.zeros(len(X[0]))\n",
    "    b = np.zeros((1,1))\n",
    "    epochs = epochs\n",
    "\n",
    "    #Define hardlim\n",
    "    def hardlim(n):\n",
    "        if n >= 0:\n",
    "            a = 1\n",
    "        else: \n",
    "            a = 0 \n",
    "        return a\n",
    "    \n",
    "    #Run for X number of epochs\n",
    "    for t in range(epochs):\n",
    "        for i, x in enumerate(X):\n",
    "            a = hardlim(np.dot(X[i], w) + b)\n",
    "            if a != Y[i]:\n",
    "                error = Y[i] - a\n",
    "                w = w + error*X[i]\n",
    "                b = b + error\n",
    "        print(\"Weights:\",w, \"Bias:\",b)\n",
    "        return w,b\n",
    "\n",
    "inputs = np.array([[1,4], [1,5], [2,4], [2,5], [3,1], [3,2], [4,1], [4,2]])\n",
    "targets = np.array([0,0,0,0,1,1,1,1])    \n",
    "w,b = perceptron(inputs,targets,10000)"
   ]
  },
  {
   "cell_type": "markdown",
   "metadata": {},
   "source": [
    "### ii. Test Weight Vector of [2,-3] and Bias of [0] on Input Vectors"
   ]
  },
  {
   "cell_type": "code",
   "execution_count": 6,
   "metadata": {
    "collapsed": false
   },
   "outputs": [],
   "source": [
    "def predict(w1,w2,b,X,Y):\n",
    "    \n",
    "    def hardlim(n):\n",
    "        if n >= 0:\n",
    "            a = 1\n",
    "        else: \n",
    "            a = 0 \n",
    "        return a\n",
    "    \n",
    "    predicted_target = []\n",
    "    for i in range(0,len(X)):\n",
    "        if hardlim(np.dot([w1,w2],X[i])+ b) != Y[i]:\n",
    "            print('Incorrect')\n",
    "            predicted_target.append(hardlim(np.dot([w1,w2],X[i])+ b))\n",
    "        else: \n",
    "            print(\"Correct\")\n",
    "            predicted_target.append(hardlim(np.dot([w1,w2],X[i])+ b))\n",
    "    return predicted_target"
   ]
  },
  {
   "cell_type": "code",
   "execution_count": 7,
   "metadata": {
    "collapsed": false
   },
   "outputs": [
    {
     "name": "stdout",
     "output_type": "stream",
     "text": [
      "Correct\n",
      "Correct\n",
      "Correct\n",
      "Correct\n",
      "Correct\n",
      "Correct\n",
      "Correct\n",
      "Correct\n"
     ]
    },
    {
     "data": {
      "text/plain": [
       "[0, 0, 0, 0, 1, 1, 1, 1]"
      ]
     },
     "execution_count": 7,
     "metadata": {},
     "output_type": "execute_result"
    }
   ],
   "source": [
    "predictedTargets = predict(w[0],w[1],b,inputs, targets)\n",
    "predictedTargets"
   ]
  },
  {
   "cell_type": "markdown",
   "metadata": {},
   "source": [
    "### iii. Plot the input and decision boundary to validate results"
   ]
  },
  {
   "cell_type": "code",
   "execution_count": 13,
   "metadata": {
    "collapsed": false
   },
   "outputs": [
    {
     "data": {
      "text/plain": [
       "<matplotlib.text.Text at 0x11c240f28>"
      ]
     },
     "execution_count": 13,
     "metadata": {},
     "output_type": "execute_result"
    },
    {
     "data": {
      "image/png": "[encoded data removed]",
      "text/plain": [
       "<matplotlib.figure.Figure at 0x11c1fb3c8>"
      ]
     },
     "metadata": {},
     "output_type": "display_data"
    }
   ],
   "source": [
    "sb.lmplot(x = \"toyWeight\", y = \"earlength\", data = df,\n",
    "         hue = \"targets\", markers = [\"o\", \"x\"], fit_reg = False)\n",
    "\n",
    "'''\n",
    "Here is the equation of the perceptron: w1*toyWeight + w2*earlength + bias \n",
    "where W1 = [2, -3] and b = 0.\n",
    "\n",
    "2*toyWeight + (-3)*earlength + 0 = 0 therefore the equation of the decision boundary \n",
    "in two dimensions is: earlength = 2/3*toyWeight \n",
    "'''\n",
    "\n",
    "for i in np.linspace(np.amin(inputs[:,:1]),np.amax(inputs[:,:1])):\n",
    "    slope = 2/3 \n",
    "    intercept = 0\n",
    "\n",
    "    y = (slope*i) + intercept\n",
    "    plt.plot(i, y, 'bo')\n",
    "\n",
    "plt.title(\"Decision Boundary for Trained Perceptron\")"
   ]
  },
  {
   "cell_type": "code",
   "execution_count": null,
   "metadata": {
    "collapsed": true
   },
   "outputs": [],
   "source": []
  }
 ],
 "metadata": {
  "kernelspec": {
   "display_name": "Python 3",
   "language": "python",
   "name": "python3"
  },
  "language_info": {
   "codemirror_mode": {
    "name": "ipython",
    "version": 3
   },
   "file_extension": ".py",
   "mimetype": "text/x-python",
   "name": "python",
   "nbconvert_exporter": "python",
   "pygments_lexer": "ipython3",
   "version": "3.6.0"
  }
 },
 "nbformat": 4,
 "nbformat_minor": 2
}
