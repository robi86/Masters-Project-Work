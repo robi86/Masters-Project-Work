{
 "cells": [
  {
   "cell_type": "code",
   "execution_count": 159,
   "metadata": {
    "collapsed": true
   },
   "outputs": [],
   "source": [
    "import numpy as np\n",
    "import pandas as pd\n",
    "import random\n",
    "from sklearn.model_selection import GridSearchCV, train_test_split\n",
    "from sklearn.ensemble import RandomForestClassifier\n",
    "from sklearn.metrics import accuracy_score, f1_score, classification_report\n",
    "from imblearn.over_sampling import ADASYN\n",
    "from imblearn.under_sampling import RandomUnderSampler\n",
    "from imblearn.over_sampling import RandomOverSampler \n",
    "from collections import Counter"
   ]
  },
  {
   "cell_type": "markdown",
   "metadata": {},
   "source": [
    "### Data Preparation and Cleaning\n",
    "- Admittedly, this is not the most efficient code. But it gets the job done."
   ]
  },
  {
   "cell_type": "code",
   "execution_count": 2,
   "metadata": {
    "collapsed": true
   },
   "outputs": [],
   "source": [
    "#Read in dataframe\n",
    "df = pd.read_csv(\"data_train.csv\")"
   ]
  },
  {
   "cell_type": "code",
   "execution_count": 3,
   "metadata": {
    "collapsed": true
   },
   "outputs": [],
   "source": [
    "#DATA CLEANING STEPS\n",
    "\n",
    "#Steps to clean data by dropping columns where the number of empty rows is >= 445,000\n",
    "dfComplete = df.dropna(1, thresh= 445000)\n",
    "# dfComplete.shape #Results in (494932,58)\n",
    "\n",
    "#Steps to clean data by dropping row where the number of empty columns is > 0\n",
    "dfCompleteAll = dfComplete.dropna(0, how=\"any\")\n",
    "# dfCompleteAll.shape #results in a dataframe of (476155,58)\n",
    "\n",
    "# dfCompleteAll.isnull().sum() #no more nulls in the dataset"
   ]
  },
  {
   "cell_type": "code",
   "execution_count": 4,
   "metadata": {},
   "outputs": [
    {
     "data": {
      "text/html": [
       "<div>\n",
       "<style>\n",
       "    .dataframe thead tr:only-child th {\n",
       "        text-align: right;\n",
       "    }\n",
       "\n",
       "    .dataframe thead th {\n",
       "        text-align: left;\n",
       "    }\n",
       "\n",
       "    .dataframe tbody tr th {\n",
       "        vertical-align: top;\n",
       "    }\n",
       "</style>\n",
       "<table border=\"1\" class=\"dataframe\">\n",
       "  <thead>\n",
       "    <tr style=\"text-align: right;\">\n",
       "      <th></th>\n",
       "      <th>ASOURCE</th>\n",
       "      <th>ATYPE</th>\n",
       "      <th>RACE</th>\n",
       "      <th>TOTCHG</th>\n",
       "      <th>ZIPINC_QRTL</th>\n",
       "    </tr>\n",
       "  </thead>\n",
       "  <tbody>\n",
       "    <tr>\n",
       "      <th>0</th>\n",
       "      <td>2</td>\n",
       "      <td>2</td>\n",
       "      <td>1</td>\n",
       "      <td>272123</td>\n",
       "      <td>3</td>\n",
       "    </tr>\n",
       "    <tr>\n",
       "      <th>1</th>\n",
       "      <td>2</td>\n",
       "      <td>2</td>\n",
       "      <td>1</td>\n",
       "      <td>209246</td>\n",
       "      <td>1</td>\n",
       "    </tr>\n",
       "    <tr>\n",
       "      <th>2</th>\n",
       "      <td>2</td>\n",
       "      <td>2</td>\n",
       "      <td>1</td>\n",
       "      <td>305474</td>\n",
       "      <td>1</td>\n",
       "    </tr>\n",
       "    <tr>\n",
       "      <th>3</th>\n",
       "      <td>2</td>\n",
       "      <td>2</td>\n",
       "      <td>1</td>\n",
       "      <td>202973</td>\n",
       "      <td>1</td>\n",
       "    </tr>\n",
       "    <tr>\n",
       "      <th>4</th>\n",
       "      <td>2</td>\n",
       "      <td>2</td>\n",
       "      <td>1</td>\n",
       "      <td>416072</td>\n",
       "      <td>1</td>\n",
       "    </tr>\n",
       "  </tbody>\n",
       "</table>\n",
       "</div>"
      ],
      "text/plain": [
       "   ASOURCE  ATYPE  RACE  TOTCHG  ZIPINC_QRTL\n",
       "0        2      2     1  272123            3\n",
       "1        2      2     1  209246            1\n",
       "2        2      2     1  305474            1\n",
       "3        2      2     1  202973            1\n",
       "4        2      2     1  416072            1"
      ]
     },
     "execution_count": 4,
     "metadata": {},
     "output_type": "execute_result"
    }
   ],
   "source": [
    "#Extract Dataframe of Variables for Classification\n",
    "y = dfCompleteAll[[\"ASOURCE\", \"ATYPE\", \"RACE\", \"TOTCHG\", \"ZIPINC_QRTL\"]]\n",
    "y.head()"
   ]
  },
  {
   "cell_type": "code",
   "execution_count": 5,
   "metadata": {
    "collapsed": true
   },
   "outputs": [],
   "source": [
    "\"\"\"The next step is to prepare variables for exploratory data analysis and feature\n",
    "selection using a random forest. \n",
    "\n",
    "Random forest does not require standardization of continuous variables or normalization\n",
    "of discrete variable. For categorical features, we will need to use pd.get_dummies or \n",
    "one hot encoding to create binary dummy variables. \n",
    "\"\"\"\n",
    "\n",
    "#First create two dataframes of int and float values to make things easier to work with \n",
    "columnNames = dfCompleteAll.columns\n",
    "dfFloat = pd.DataFrame()\n",
    "dfInt = pd.DataFrame()\n",
    "for name in columnNames:\n",
    "    if dfCompleteAll[name].dtype == float:\n",
    "        dfFloat = dfFloat.join(dfCompleteAll[name], how = \"right\")\n",
    "    else:\n",
    "        dfInt = dfInt.join(dfCompleteAll[name], how = \"right\")\n",
    "        \n",
    "#Convert all columns in DfFloat, except DISCWT, to integer values. Afterwards nominal features\n",
    "#will be one-hot encoded to create dummy variables, again we will not normalize or stadardize\n",
    "# numeric values. \n",
    "\n",
    "float_toInt = ['AGE', 'AMONTH', 'AWEEKEND', 'DIED', 'DISPUNIFORM', 'DXCCS1',\n",
    "       'DXCCS2', 'FEMALE', 'LOS', 'PAY1', 'HOSP_BEDSIZE', 'HOSP_CONTROL',\n",
    "       'HOSP_LOCTEACH']\n",
    "for digit in float_toInt:\n",
    "    dfFloat[digit] = dfFloat[digit].astype(int)"
   ]
  },
  {
   "cell_type": "code",
   "execution_count": 6,
   "metadata": {
    "collapsed": true,
    "scrolled": true
   },
   "outputs": [],
   "source": [
    "# In dfFloat we have the following columns and feature groupings. \n",
    "# For reference use feature_desc or call .unique() method on one of the columns\n",
    "\n",
    "# CONTINUOUS:\n",
    "dfFloatContinuous = dfFloat[[\"AGE\", \"DISCWT\"]]\n",
    "\n",
    "\n",
    "# NOMINAL:\n",
    "dfFloatNominal = dfFloat[['AMONTH', 'DISPUNIFORM', 'DXCCS1',\n",
    "       'DXCCS2', 'PAY1', 'HOSP_CONTROL','HOSP_LOCTEACH']]\n",
    "\n",
    "# BINARY & ORDINAL\n",
    "dfBinaryOrdinal = dfFloat[[\"DIED\", \"AWEEKEND\", \"FEMALE\", \"HOSP_BEDSIZE\"]]\n",
    "\n",
    "# DISCRETE\n",
    "dfDiscrete = dfFloat[[\"LOS\"]]"
   ]
  },
  {
   "cell_type": "code",
   "execution_count": 7,
   "metadata": {},
   "outputs": [
    {
     "data": {
      "text/plain": [
       "(475155, 556)"
      ]
     },
     "execution_count": 7,
     "metadata": {},
     "output_type": "execute_result"
    }
   ],
   "source": [
    "#Use pd.get_dummies to turn nominal variables into dummy variables by first setting all \n",
    "#values as string, a requirement of pd.get_dummies. \n",
    "\n",
    "dfFloatNominal = dfFloatNominal.loc[:].astype(str)\n",
    "    \n",
    "dfFloatNominal = pd.get_dummies(dfFloatNominal)\n",
    "dfFloatNominal.shape "
   ]
  },
  {
   "cell_type": "code",
   "execution_count": 8,
   "metadata": {
    "collapsed": true
   },
   "outputs": [],
   "source": [
    "#Normally here, we might turn values in dfFloatContinuous to normalized, however,\n",
    "#DTs and RFs do not require this. Later if we use a different classifier, we will need\n",
    "# to standardize or normalize. \n",
    "\n",
    "#Normalization: rescaling features to a range of [0, 1], a special case of min-max scaling.\n",
    "\n",
    "#Standardization: Often more practical, center the feature columns at mean 0 with \n",
    "# standard deviation 1 so that the feature columns take the form of a normal distribution, \n",
    "#This make it easier to learn the weights."
   ]
  },
  {
   "cell_type": "code",
   "execution_count": 9,
   "metadata": {},
   "outputs": [
    {
     "data": {
      "text/plain": [
       "(475155, 563)"
      ]
     },
     "execution_count": 9,
     "metadata": {},
     "output_type": "execute_result"
    }
   ],
   "source": [
    "# We can now recreate the original dfFloat dataframe as dfFloatPreprocessed which \n",
    "# will have variables ready for feature selection with RF. Next the same thing must be down\n",
    "#with dfInt\n",
    "list_of_dataframes = [dfFloatContinuous, dfBinaryOrdinal, dfDiscrete, dfFloatNominal]\n",
    "\n",
    "dfFloatPreprocessed = pd.DataFrame()\n",
    "for frame in list_of_dataframes:\n",
    "    dfFloatPreprocessed = dfFloatPreprocessed.join(frame, how = \"right\")\n",
    "dfFloatPreprocessed.shape"
   ]
  },
  {
   "cell_type": "code",
   "execution_count": 10,
   "metadata": {},
   "outputs": [
    {
     "data": {
      "text/plain": [
       "'\\nUncomment the code below to look at values in each column to see what needs to be dropped \\n'"
      ]
     },
     "execution_count": 10,
     "metadata": {},
     "output_type": "execute_result"
    }
   ],
   "source": [
    "#Prepare dfInt for preprocessing, starting with dropping respone variables\n",
    "dfInt = dfInt.drop([\"ASOURCE\", \"ATYPE\", \"RACE\", \"TOTCHG\", \"ZIPINC_QRTL\"], axis= 1)\n",
    "'''\n",
    "Uncomment the code below to look at values in each column to see what needs to be dropped \n",
    "'''\n",
    "\n",
    "# columnNamesInt = dfInt.columns\n",
    "\n",
    "# for name in columnNamesInt:\n",
    "#     print(name, dfInt[name].unique()) #Any values where 0,1 or ordinal e.g., DQTR we are good"
   ]
  },
  {
   "cell_type": "code",
   "execution_count": 11,
   "metadata": {
    "collapsed": true
   },
   "outputs": [],
   "source": [
    "#CMs are all binary, therefore, create a separate dataframe for these columns: \n",
    "dfCm = dfInt[['CM_AIDS', 'CM_ALCOHOL', 'CM_ANEMDEF',\n",
    "       'CM_ARTH', 'CM_BLDLOSS', 'CM_CHF', 'CM_CHRNLUNG', 'CM_COAG',\n",
    "       'CM_DEPRESS', 'CM_DM', 'CM_DMCX', 'CM_DRUG', 'CM_HTN_C', 'CM_HYPOTHY',\n",
    "       'CM_LIVER', 'CM_LYMPH', 'CM_LYTES', 'CM_METS', 'CM_NEURO', 'CM_OBESE',\n",
    "       'CM_PARA', 'CM_PERIVASC', 'CM_PSYCH', 'CM_PULMCIRC', 'CM_RENLFAIL',\n",
    "       'CM_TUMOR', 'CM_ULCER', 'CM_VALVE', 'CM_WGHTLOSS']]\n",
    "\n",
    "#Update the dfInt dataframe to a new dataframe:\n",
    "dfIntShort = dfInt.drop(['CM_AIDS', 'CM_ALCOHOL', 'CM_ANEMDEF',\n",
    "       'CM_ARTH', 'CM_BLDLOSS', 'CM_CHF', 'CM_CHRNLUNG', 'CM_COAG',\n",
    "       'CM_DEPRESS', 'CM_DM', 'CM_DMCX', 'CM_DRUG', 'CM_HTN_C', 'CM_HYPOTHY',\n",
    "       'CM_LIVER', 'CM_LYMPH', 'CM_LYTES', 'CM_METS', 'CM_NEURO', 'CM_OBESE',\n",
    "       'CM_PARA', 'CM_PERIVASC', 'CM_PSYCH', 'CM_PULMCIRC', 'CM_RENLFAIL',\n",
    "       'CM_TUMOR', 'CM_ULCER', 'CM_VALVE', 'CM_WGHTLOSS'],axis = 1)\n",
    "\n",
    "# columnNamesInt = dfIntShort.columns\n",
    "# for name in columnNamesInt:\n",
    "#     print(name, dfIntShort[name].unique()) #Any values where 0,1 or ordinal e.g., DQTR we are good"
   ]
  },
  {
   "cell_type": "code",
   "execution_count": 12,
   "metadata": {
    "collapsed": true
   },
   "outputs": [],
   "source": [
    "#Continue evaluating values in each column\n",
    "\n",
    "#Since NDX, NPR, ORPROC, TOTAL_DISC are all either Binary or Discerete variables, create a separate dataframe\n",
    "dfIntBinaryDiscrete = dfIntShort[[\"NDX\", \"NPR\", \"ORPROC\", \"TOTAL_DISC\"]]\n",
    "\n",
    "# Since DQTR, HOSPID, MDC, NIS_STRATUM, HOSP_REGION are all nominal variables, create a separate dataframe to \n",
    "#turn these into dummy variables. ALSO Drop \"KEY\" as this is the record id field: \n",
    "dfIntToDummies = dfIntShort.drop([\"KEY\", \"NDX\", \"NPR\", \"ORPROC\", \"TOTAL_DISC\"], axis= 1)\n"
   ]
  },
  {
   "cell_type": "code",
   "execution_count": 13,
   "metadata": {
    "collapsed": true
   },
   "outputs": [],
   "source": [
    "#Turn values in DQTR, HOSPID, MDC, NIS_STRATUM, HOSP_REGION to string\n",
    "dfIntToDummies = dfIntToDummies.loc[:].astype(str)\n",
    "\n",
    "#Use pd.get_dummies to turn nominal string values to binary dummy variables\n",
    "dfIntToDummies = pd.get_dummies(dfIntToDummies)\n",
    "# dfIntToDummies.head()"
   ]
  },
  {
   "cell_type": "code",
   "execution_count": 14,
   "metadata": {
    "collapsed": true
   },
   "outputs": [],
   "source": [
    "#Recombinet the three dataframes into a new preprocessed dataframe called dfIntPreprocessed\n",
    "intRecombine = [dfIntToDummies, dfCm, dfIntBinaryDiscrete]\n",
    "\n",
    "dfIntPreprocessed = pd.DataFrame()\n",
    "for df in intRecombine:\n",
    "    dfIntPreprocessed = dfIntPreprocessed.join(df, how = \"right\")\n",
    "    \n",
    "# dfIntPreprocessed.shape"
   ]
  },
  {
   "cell_type": "code",
   "execution_count": 15,
   "metadata": {},
   "outputs": [
    {
     "data": {
      "text/html": [
       "<div>\n",
       "<style>\n",
       "    .dataframe thead tr:only-child th {\n",
       "        text-align: right;\n",
       "    }\n",
       "\n",
       "    .dataframe thead th {\n",
       "        text-align: left;\n",
       "    }\n",
       "\n",
       "    .dataframe tbody tr th {\n",
       "        vertical-align: top;\n",
       "    }\n",
       "</style>\n",
       "<table border=\"1\" class=\"dataframe\">\n",
       "  <thead>\n",
       "    <tr style=\"text-align: right;\">\n",
       "      <th></th>\n",
       "      <th>AGE</th>\n",
       "      <th>DISCWT</th>\n",
       "      <th>DIED</th>\n",
       "      <th>AWEEKEND</th>\n",
       "      <th>FEMALE</th>\n",
       "      <th>HOSP_BEDSIZE</th>\n",
       "      <th>LOS</th>\n",
       "      <th>AMONTH_1</th>\n",
       "      <th>AMONTH_10</th>\n",
       "      <th>AMONTH_11</th>\n",
       "      <th>...</th>\n",
       "      <th>CM_PULMCIRC</th>\n",
       "      <th>CM_RENLFAIL</th>\n",
       "      <th>CM_TUMOR</th>\n",
       "      <th>CM_ULCER</th>\n",
       "      <th>CM_VALVE</th>\n",
       "      <th>CM_WGHTLOSS</th>\n",
       "      <th>NDX</th>\n",
       "      <th>NPR</th>\n",
       "      <th>ORPROC</th>\n",
       "      <th>TOTAL_DISC</th>\n",
       "    </tr>\n",
       "  </thead>\n",
       "  <tbody>\n",
       "    <tr>\n",
       "      <th>0</th>\n",
       "      <td>48</td>\n",
       "      <td>4.671227</td>\n",
       "      <td>0</td>\n",
       "      <td>0</td>\n",
       "      <td>0</td>\n",
       "      <td>1</td>\n",
       "      <td>83</td>\n",
       "      <td>0</td>\n",
       "      <td>0</td>\n",
       "      <td>1</td>\n",
       "      <td>...</td>\n",
       "      <td>0</td>\n",
       "      <td>0</td>\n",
       "      <td>0</td>\n",
       "      <td>0</td>\n",
       "      <td>0</td>\n",
       "      <td>1</td>\n",
       "      <td>18</td>\n",
       "      <td>7</td>\n",
       "      <td>1</td>\n",
       "      <td>409</td>\n",
       "    </tr>\n",
       "    <tr>\n",
       "      <th>1</th>\n",
       "      <td>66</td>\n",
       "      <td>4.671227</td>\n",
       "      <td>0</td>\n",
       "      <td>0</td>\n",
       "      <td>0</td>\n",
       "      <td>1</td>\n",
       "      <td>50</td>\n",
       "      <td>0</td>\n",
       "      <td>0</td>\n",
       "      <td>1</td>\n",
       "      <td>...</td>\n",
       "      <td>0</td>\n",
       "      <td>0</td>\n",
       "      <td>0</td>\n",
       "      <td>0</td>\n",
       "      <td>0</td>\n",
       "      <td>1</td>\n",
       "      <td>18</td>\n",
       "      <td>8</td>\n",
       "      <td>0</td>\n",
       "      <td>409</td>\n",
       "    </tr>\n",
       "    <tr>\n",
       "      <th>2</th>\n",
       "      <td>53</td>\n",
       "      <td>4.671227</td>\n",
       "      <td>0</td>\n",
       "      <td>0</td>\n",
       "      <td>0</td>\n",
       "      <td>1</td>\n",
       "      <td>65</td>\n",
       "      <td>0</td>\n",
       "      <td>0</td>\n",
       "      <td>1</td>\n",
       "      <td>...</td>\n",
       "      <td>0</td>\n",
       "      <td>0</td>\n",
       "      <td>0</td>\n",
       "      <td>0</td>\n",
       "      <td>0</td>\n",
       "      <td>1</td>\n",
       "      <td>18</td>\n",
       "      <td>6</td>\n",
       "      <td>0</td>\n",
       "      <td>409</td>\n",
       "    </tr>\n",
       "    <tr>\n",
       "      <th>3</th>\n",
       "      <td>27</td>\n",
       "      <td>4.671227</td>\n",
       "      <td>0</td>\n",
       "      <td>0</td>\n",
       "      <td>1</td>\n",
       "      <td>1</td>\n",
       "      <td>59</td>\n",
       "      <td>0</td>\n",
       "      <td>0</td>\n",
       "      <td>1</td>\n",
       "      <td>...</td>\n",
       "      <td>0</td>\n",
       "      <td>0</td>\n",
       "      <td>0</td>\n",
       "      <td>0</td>\n",
       "      <td>0</td>\n",
       "      <td>1</td>\n",
       "      <td>18</td>\n",
       "      <td>4</td>\n",
       "      <td>0</td>\n",
       "      <td>409</td>\n",
       "    </tr>\n",
       "    <tr>\n",
       "      <th>4</th>\n",
       "      <td>48</td>\n",
       "      <td>4.671227</td>\n",
       "      <td>1</td>\n",
       "      <td>0</td>\n",
       "      <td>0</td>\n",
       "      <td>1</td>\n",
       "      <td>77</td>\n",
       "      <td>0</td>\n",
       "      <td>0</td>\n",
       "      <td>1</td>\n",
       "      <td>...</td>\n",
       "      <td>1</td>\n",
       "      <td>1</td>\n",
       "      <td>0</td>\n",
       "      <td>0</td>\n",
       "      <td>0</td>\n",
       "      <td>1</td>\n",
       "      <td>18</td>\n",
       "      <td>8</td>\n",
       "      <td>0</td>\n",
       "      <td>409</td>\n",
       "    </tr>\n",
       "  </tbody>\n",
       "</table>\n",
       "<p>5 rows × 813 columns</p>\n",
       "</div>"
      ],
      "text/plain": [
       "   AGE    DISCWT  DIED  AWEEKEND  FEMALE  HOSP_BEDSIZE  LOS  AMONTH_1  \\\n",
       "0   48  4.671227     0         0       0             1   83         0   \n",
       "1   66  4.671227     0         0       0             1   50         0   \n",
       "2   53  4.671227     0         0       0             1   65         0   \n",
       "3   27  4.671227     0         0       1             1   59         0   \n",
       "4   48  4.671227     1         0       0             1   77         0   \n",
       "\n",
       "   AMONTH_10  AMONTH_11     ...      CM_PULMCIRC  CM_RENLFAIL  CM_TUMOR  \\\n",
       "0          0          1     ...                0            0         0   \n",
       "1          0          1     ...                0            0         0   \n",
       "2          0          1     ...                0            0         0   \n",
       "3          0          1     ...                0            0         0   \n",
       "4          0          1     ...                1            1         0   \n",
       "\n",
       "   CM_ULCER  CM_VALVE  CM_WGHTLOSS  NDX  NPR  ORPROC  TOTAL_DISC  \n",
       "0         0         0            1   18    7       1         409  \n",
       "1         0         0            1   18    8       0         409  \n",
       "2         0         0            1   18    6       0         409  \n",
       "3         0         0            1   18    4       0         409  \n",
       "4         0         0            1   18    8       0         409  \n",
       "\n",
       "[5 rows x 813 columns]"
      ]
     },
     "execution_count": 15,
     "metadata": {},
     "output_type": "execute_result"
    }
   ],
   "source": [
    "#Combine the now preprocessed dfInt and dfFloat dataframes back in a single dataframe of either discrete, continuous,\n",
    "#or binary variables. \n",
    "dfPreprocessed = dfFloatPreprocessed.join(dfIntPreprocessed, how = \"right\")\n",
    "arrayPreprocessed = np.array(dfPreprocessed)\n",
    "dfPreprocessed.head() #these are our predictors"
   ]
  },
  {
   "cell_type": "markdown",
   "metadata": {},
   "source": [
    "## Exploratory Data Analysis"
   ]
  },
  {
   "cell_type": "code",
   "execution_count": 16,
   "metadata": {},
   "outputs": [
    {
     "data": {
      "text/plain": [
       "1    326960\n",
       "2     83746\n",
       "3     38750\n",
       "6     18408\n",
       "4      6561\n",
       "5       730\n",
       "Name: RACE, dtype: int64"
      ]
     },
     "execution_count": 16,
     "metadata": {},
     "output_type": "execute_result"
    },
    {
     "data": {
      "image/png": "[encoded data removed]",
      "text/plain": [
       "<matplotlib.figure.Figure at 0x1128c7da0>"
      ]
     },
     "metadata": {},
     "output_type": "display_data"
    }
   ],
   "source": [
    "#Look at distribution of Race\n",
    "import matplotlib.pyplot as plt\n",
    "%matplotlib inline\n",
    "plt.hist(y[\"RACE\"], histtype=\"bar\")\n",
    "plt.title(\"Distribution of Race\")\n",
    "plt.ylabel(\"Count\")\n",
    "plt.xlabel(\"Race\")\n",
    "\n",
    "y.RACE.value_counts()"
   ]
  },
  {
   "cell_type": "code",
   "execution_count": 17,
   "metadata": {},
   "outputs": [
    {
     "data": {
      "text/plain": [
       "5    322233\n",
       "1    121396\n",
       "2     17097\n",
       "3     14312\n",
       "4       117\n",
       "Name: ASOURCE, dtype: int64"
      ]
     },
     "execution_count": 17,
     "metadata": {},
     "output_type": "execute_result"
    },
    {
     "data": {
      "image/png": "[encoded data removed]",
      "text/plain": [
       "<matplotlib.figure.Figure at 0x113eb20f0>"
      ]
     },
     "metadata": {},
     "output_type": "display_data"
    }
   ],
   "source": [
    "#Look at ASOURCE\n",
    "plt.hist(y[\"ASOURCE\"],histtype=\"bar\",)\n",
    "plt.title(\"ASOURCE\")\n",
    "plt.legend(\"ASOURCE\")\n",
    "\n",
    "y.ASOURCE.value_counts()"
   ]
  },
  {
   "cell_type": "code",
   "execution_count": 18,
   "metadata": {},
   "outputs": [
    {
     "data": {
      "text/plain": [
       "1    255366\n",
       "3    106770\n",
       "2     87084\n",
       "4     24558\n",
       "6       705\n",
       "5       672\n",
       "Name: ATYPE, dtype: int64"
      ]
     },
     "execution_count": 18,
     "metadata": {},
     "output_type": "execute_result"
    },
    {
     "data": {
      "image/png": "[encoded data removed]",
      "text/plain": [
       "<matplotlib.figure.Figure at 0x113efed68>"
      ]
     },
     "metadata": {},
     "output_type": "display_data"
    }
   ],
   "source": [
    "#Look at ATYPE\n",
    "plt.hist(y[\"ATYPE\"])\n",
    "plt.title(\"Histogram of ATYPE\")\n",
    "plt.legend(\"TYPE\")\n",
    "\n",
    "y.ATYPE.value_counts()"
   ]
  },
  {
   "cell_type": "code",
   "execution_count": 19,
   "metadata": {},
   "outputs": [
    {
     "data": {
      "text/plain": [
       "count    4.751550e+05\n",
       "mean     2.315819e+04\n",
       "std      3.868960e+04\n",
       "min      1.010000e+02\n",
       "25%      6.286000e+03\n",
       "50%      1.233700e+04\n",
       "75%      2.570800e+04\n",
       "max      1.461234e+06\n",
       "Name: TOTCHG, dtype: float64"
      ]
     },
     "execution_count": 19,
     "metadata": {},
     "output_type": "execute_result"
    },
    {
     "data": {
      "image/png": "[encoded data removed]",
      "text/plain": [
       "<matplotlib.figure.Figure at 0x114127748>"
      ]
     },
     "metadata": {},
     "output_type": "display_data"
    }
   ],
   "source": [
    "#Box plot for total charges --> Will need to create bins for this response variable\n",
    "plt.boxplot(y[\"TOTCHG\"])\n",
    "plt.yscale('log')\n",
    "plt.title(\"Total Charges\")\n",
    "plt.ylabel(\"Total Charges (log10)\")\n",
    "y[\"TOTCHG\"].describe()"
   ]
  },
  {
   "cell_type": "code",
   "execution_count": 20,
   "metadata": {},
   "outputs": [
    {
     "data": {
      "text/plain": [
       "4    158690\n",
       "1    122884\n",
       "3    109733\n",
       "2     83848\n",
       "Name: ZIPINC_QRTL, dtype: int64"
      ]
     },
     "execution_count": 20,
     "metadata": {},
     "output_type": "execute_result"
    },
    {
     "data": {
      "image/png": "[encoded data removed]",
      "text/plain": [
       "<matplotlib.figure.Figure at 0x11251a940>"
      ]
     },
     "metadata": {},
     "output_type": "display_data"
    }
   ],
   "source": [
    "#HIST for ZIPINC_QRTL - Median Household incoe, national quartile for patient zip code\n",
    "plt.hist(y[\"ZIPINC_QRTL\"])\n",
    "plt.title(\"Median Household Income Quartile\")\n",
    "y[\"ZIPINC_QRTL\"].describe()\n",
    "\n",
    "y.ZIPINC_QRTL.value_counts()"
   ]
  },
  {
   "cell_type": "markdown",
   "metadata": {},
   "source": [
    "## Random Forest on Undersample Data\n",
    "- Imbalanced class distributions present a big challenge for our classifier. From experience (we tried random forests on un-resampled data), we know we'll need to resample our data for better predictive power."
   ]
  },
  {
   "cell_type": "code",
   "execution_count": 24,
   "metadata": {
    "collapsed": true
   },
   "outputs": [],
   "source": [
    "#before we do anything, we need to plug our DFs back together so other features can help predict race.\n",
    "dfFull = pd.concat([dfPreprocessed, y], axis=1)\n",
    "\n",
    "X_race = dfFull.drop(['RACE'], axis=1) #all columns except race\n",
    "y_race = dfFull.RACE #RACE column\n",
    "\n",
    "#CRUCIALLY, must do a train test split before any resampling; we HAVE to hold out observed test data\n",
    "X_train_race, X_test_race, y_train_race, y_test_race = train_test_split(X_race, y_race, test_size = 0.25,\n",
    "                                                                       random_state = 12)"
   ]
  },
  {
   "cell_type": "code",
   "execution_count": 25,
   "metadata": {},
   "outputs": [
    {
     "data": {
      "text/plain": [
       "1    245078\n",
       "2     62863\n",
       "3     29118\n",
       "6     13824\n",
       "4      4933\n",
       "5       550\n",
       "Name: RACE, dtype: int64"
      ]
     },
     "execution_count": 25,
     "metadata": {},
     "output_type": "execute_result"
    }
   ],
   "source": [
    "y_train_race.value_counts()"
   ]
  },
  {
   "cell_type": "code",
   "execution_count": 27,
   "metadata": {},
   "outputs": [
    {
     "data": {
      "text/plain": [
       "1    0.687714\n",
       "2    0.176400\n",
       "3    0.081708\n",
       "6    0.038792\n",
       "4    0.013843\n",
       "5    0.001543\n",
       "Name: RACE, dtype: float64"
      ]
     },
     "execution_count": 27,
     "metadata": {},
     "output_type": "execute_result"
    }
   ],
   "source": [
    "y_train_race.value_counts(normalize=True)"
   ]
  },
  {
   "cell_type": "code",
   "execution_count": 28,
   "metadata": {},
   "outputs": [
    {
     "data": {
      "text/plain": [
       "356366"
      ]
     },
     "execution_count": 28,
     "metadata": {},
     "output_type": "execute_result"
    }
   ],
   "source": [
    "len(y_train_race)"
   ]
  },
  {
   "cell_type": "markdown",
   "metadata": {},
   "source": [
    "No wonder a random forest on the base data won't classify anything in the 4 and 5 classes."
   ]
  },
  {
   "cell_type": "code",
   "execution_count": 29,
   "metadata": {
    "collapsed": true
   },
   "outputs": [],
   "source": [
    "#we pass a dict with desired values to the random under sampler object. Admittedly, our values are a bit arbitrary\n",
    "rus = RandomUnderSampler(ratio = {1:50000, 2:20000, 3:15000, 4:4933, 5:550, 6:13824}, random_state=12) \n",
    "\n",
    "#this time, ratio = auto means resample all except minority class\n",
    "uX_train_race, uy_train_race = rus.fit_sample(X_train_race, y_train_race)"
   ]
  },
  {
   "cell_type": "code",
   "execution_count": 36,
   "metadata": {},
   "outputs": [
    {
     "data": {
      "text/plain": [
       "1    0.479354\n",
       "2    0.191742\n",
       "3    0.143806\n",
       "6    0.132532\n",
       "4    0.047293\n",
       "5    0.005273\n",
       "dtype: float64"
      ]
     },
     "execution_count": 36,
     "metadata": {},
     "output_type": "execute_result"
    }
   ],
   "source": [
    "#new counts\n",
    "new_race_counts = pd.Series(uy_train_race)\n",
    "new_race_counts.value_counts(normalize=True)"
   ]
  },
  {
   "cell_type": "code",
   "execution_count": 37,
   "metadata": {},
   "outputs": [
    {
     "data": {
      "text/plain": [
       "104307"
      ]
     },
     "execution_count": 37,
     "metadata": {},
     "output_type": "execute_result"
    }
   ],
   "source": [
    "len(uy_train_race)"
   ]
  },
  {
   "cell_type": "markdown",
   "metadata": {},
   "source": [
    "### \"Base\" Random Forest on this data:\n",
    "- We'll cross validate shortly, but first we want to see \"base\" performance.\n",
    "- In reality, we ran a few random forests to start zeroing in on what ideal settings might be. \n",
    "    - Interestingly, using a large number of estimators gets better results (this may be because the high proportion of \"dummy\" variables - many predictors are just long arrays of mainly zeroes)."
   ]
  },
  {
   "cell_type": "code",
   "execution_count": 38,
   "metadata": {},
   "outputs": [
    {
     "data": {
      "text/plain": [
       "RandomForestClassifier(bootstrap=True, class_weight=None, criterion='gini',\n",
       "            max_depth=250, max_features='auto', max_leaf_nodes=None,\n",
       "            min_impurity_decrease=0.0, min_impurity_split=None,\n",
       "            min_samples_leaf=1, min_samples_split=2,\n",
       "            min_weight_fraction_leaf=0.0, n_estimators=300, n_jobs=-1,\n",
       "            oob_score=True, random_state=12, verbose=0, warm_start=False)"
      ]
     },
     "execution_count": 38,
     "metadata": {},
     "output_type": "execute_result"
    }
   ],
   "source": [
    "#these are pretty high variance settings to start\n",
    "rus_clf = RandomForestClassifier(n_jobs=-1,max_features='auto',n_estimators=300,max_depth=250,min_samples_split=2,\n",
    "                             min_samples_leaf=1,oob_score = True, random_state=12)\n",
    "\n",
    "rus_clf.fit(uX_train_race, uy_train_race)"
   ]
  },
  {
   "cell_type": "code",
   "execution_count": 39,
   "metadata": {},
   "outputs": [
    {
     "data": {
      "text/plain": [
       "0.75904334576433841"
      ]
     },
     "execution_count": 39,
     "metadata": {},
     "output_type": "execute_result"
    }
   ],
   "source": [
    "rus_model_predictions = rus_clf.predict(X_test_race)\n",
    "rus_model_accuracy = accuracy_score(y_test_race, rus_model_predictions)\n",
    "rus_model_accuracy"
   ]
  },
  {
   "cell_type": "code",
   "execution_count": 41,
   "metadata": {},
   "outputs": [
    {
     "name": "stdout",
     "output_type": "stream",
     "text": [
      "             precision    recall  f1-score   support\n",
      "\n",
      "          1       0.85      0.90      0.88     81882\n",
      "          2       0.59      0.45      0.51     20883\n",
      "          3       0.47      0.50      0.49      9632\n",
      "          4       0.13      0.06      0.08      1628\n",
      "          5       0.12      0.01      0.01       180\n",
      "          6       0.37      0.40      0.38      4584\n",
      "\n",
      "avg / total       0.75      0.76      0.75    118789\n",
      "\n"
     ]
    }
   ],
   "source": [
    "rus_model_report = classification_report(y_test_race, rus_model_predictions)\n",
    "print(rus_model_report)"
   ]
  },
  {
   "cell_type": "code",
   "execution_count": 42,
   "metadata": {},
   "outputs": [
    {
     "data": {
      "text/html": [
       "<div>\n",
       "<style>\n",
       "    .dataframe thead tr:only-child th {\n",
       "        text-align: right;\n",
       "    }\n",
       "\n",
       "    .dataframe thead th {\n",
       "        text-align: left;\n",
       "    }\n",
       "\n",
       "    .dataframe tbody tr th {\n",
       "        vertical-align: top;\n",
       "    }\n",
       "</style>\n",
       "<table border=\"1\" class=\"dataframe\">\n",
       "  <thead>\n",
       "    <tr style=\"text-align: right;\">\n",
       "      <th>Predicted Race</th>\n",
       "      <th>1</th>\n",
       "      <th>2</th>\n",
       "      <th>3</th>\n",
       "      <th>4</th>\n",
       "      <th>5</th>\n",
       "      <th>6</th>\n",
       "    </tr>\n",
       "    <tr>\n",
       "      <th>Actual Race</th>\n",
       "      <th></th>\n",
       "      <th></th>\n",
       "      <th></th>\n",
       "      <th></th>\n",
       "      <th></th>\n",
       "      <th></th>\n",
       "    </tr>\n",
       "  </thead>\n",
       "  <tbody>\n",
       "    <tr>\n",
       "      <th>1</th>\n",
       "      <td>73927</td>\n",
       "      <td>4410</td>\n",
       "      <td>1755</td>\n",
       "      <td>315</td>\n",
       "      <td>1</td>\n",
       "      <td>1474</td>\n",
       "    </tr>\n",
       "    <tr>\n",
       "      <th>2</th>\n",
       "      <td>7324</td>\n",
       "      <td>9473</td>\n",
       "      <td>2956</td>\n",
       "      <td>167</td>\n",
       "      <td>1</td>\n",
       "      <td>962</td>\n",
       "    </tr>\n",
       "    <tr>\n",
       "      <th>3</th>\n",
       "      <td>3030</td>\n",
       "      <td>1159</td>\n",
       "      <td>4843</td>\n",
       "      <td>83</td>\n",
       "      <td>2</td>\n",
       "      <td>515</td>\n",
       "    </tr>\n",
       "    <tr>\n",
       "      <th>4</th>\n",
       "      <td>948</td>\n",
       "      <td>270</td>\n",
       "      <td>144</td>\n",
       "      <td>96</td>\n",
       "      <td>2</td>\n",
       "      <td>168</td>\n",
       "    </tr>\n",
       "    <tr>\n",
       "      <th>5</th>\n",
       "      <td>136</td>\n",
       "      <td>10</td>\n",
       "      <td>28</td>\n",
       "      <td>1</td>\n",
       "      <td>1</td>\n",
       "      <td>4</td>\n",
       "    </tr>\n",
       "    <tr>\n",
       "      <th>6</th>\n",
       "      <td>1441</td>\n",
       "      <td>659</td>\n",
       "      <td>573</td>\n",
       "      <td>84</td>\n",
       "      <td>1</td>\n",
       "      <td>1826</td>\n",
       "    </tr>\n",
       "  </tbody>\n",
       "</table>\n",
       "</div>"
      ],
      "text/plain": [
       "Predicted Race      1     2     3    4  5     6\n",
       "Actual Race                                    \n",
       "1               73927  4410  1755  315  1  1474\n",
       "2                7324  9473  2956  167  1   962\n",
       "3                3030  1159  4843   83  2   515\n",
       "4                 948   270   144   96  2   168\n",
       "5                 136    10    28    1  1     4\n",
       "6                1441   659   573   84  1  1826"
      ]
     },
     "execution_count": 42,
     "metadata": {},
     "output_type": "execute_result"
    }
   ],
   "source": [
    "pd.crosstab(y_test_race, rus_model_predictions, rownames=['Actual Race'], colnames=['Predicted Race'])"
   ]
  },
  {
   "cell_type": "markdown",
   "metadata": {},
   "source": [
    "### Cross-Validation with Grid Search CV:\n",
    "- Let's see if we can run a grid search without nuking my RAM. \n",
    "- Note that we aren't going to cross val number of trees. We know that, up to a point, the model should get better with more trees. So we'll keep trees modest to improve run time. **Then we can always ramp up trees on a single run with other parameters optimized.**"
   ]
  },
  {
   "cell_type": "code",
   "execution_count": 50,
   "metadata": {
    "collapsed": true
   },
   "outputs": [],
   "source": [
    "#try even smaller values for a resample; otherwise cross val won't run\n",
    "#these could potentially bias our estimator (more than we intend to); we should run predictions with best params\n",
    "#but also pass these best params to a single RF that runs on the larger data, and see what does best\n",
    "\n",
    "small_rus = RandomUnderSampler(ratio = {1:10000, 2:6000, 3:3500, 4:2000, 5:550, 6:3000}, random_state=12) \n",
    "\n",
    "#this time, ratio = auto means resample all except minority class\n",
    "uRXtr_slice, uRytr_slice = small_rus.fit_sample(X_train_race, y_train_race)"
   ]
  },
  {
   "cell_type": "code",
   "execution_count": 80,
   "metadata": {},
   "outputs": [
    {
     "data": {
      "text/plain": [
       "1    0.399202\n",
       "2    0.239521\n",
       "3    0.139721\n",
       "6    0.119760\n",
       "4    0.079840\n",
       "5    0.021956\n",
       "dtype: float64"
      ]
     },
     "execution_count": 80,
     "metadata": {},
     "output_type": "execute_result"
    }
   ],
   "source": [
    "undersample_slice = pd.Series(uRytr_slice)\n",
    "undersample_slice.value_counts(normalize=True)"
   ]
  },
  {
   "cell_type": "code",
   "execution_count": 51,
   "metadata": {},
   "outputs": [
    {
     "data": {
      "text/plain": [
       "GridSearchCV(cv=None, error_score='raise',\n",
       "       estimator=RandomForestClassifier(bootstrap=True, class_weight=None, criterion='gini',\n",
       "            max_depth=250, max_features='auto', max_leaf_nodes=None,\n",
       "            min_impurity_decrease=0.0, min_impurity_split=None,\n",
       "            min_samples_leaf=1, min_samples_split=2,\n",
       "            min_weight_fraction_leaf=0.0, n_estimators=300, n_jobs=-1,\n",
       "            oob_score=True, random_state=12, verbose=0, warm_start=False),\n",
       "       fit_params=None, iid=True, n_jobs=-1,\n",
       "       param_grid={'min_samples_split': [2, 3, 5, 10], 'max_features': ['auto', 100, 300]},\n",
       "       pre_dispatch='2*n_jobs', refit=True, return_train_score=False,\n",
       "       scoring='f1_micro', verbose=0)"
      ]
     },
     "execution_count": 51,
     "metadata": {},
     "output_type": "execute_result"
    }
   ],
   "source": [
    "param_grid = {\n",
    "    'min_samples_split': [2, 3, 5, 10],\n",
    "    'max_features': ['auto', 100, 300]\n",
    "}\n",
    "\n",
    "#auto features = sqrt = ~28\n",
    "\n",
    "#keep cv arg at default (3) - more small classes for test?\n",
    "CV_model = GridSearchCV(estimator=rus_clf, param_grid=param_grid, scoring='f1_micro', n_jobs=-1,\n",
    "                        return_train_score=False)\n",
    "\n",
    "CV_model.fit(uRXtr_slice, uRytr_slice)"
   ]
  },
  {
   "cell_type": "code",
   "execution_count": 52,
   "metadata": {},
   "outputs": [
    {
     "data": {
      "text/plain": [
       "{'max_features': 100, 'min_samples_split': 5}"
      ]
     },
     "execution_count": 52,
     "metadata": {},
     "output_type": "execute_result"
    }
   ],
   "source": [
    "CV_model.best_params_"
   ]
  },
  {
   "cell_type": "code",
   "execution_count": 53,
   "metadata": {},
   "outputs": [
    {
     "data": {
      "text/plain": [
       "0.72829975839513761"
      ]
     },
     "execution_count": 53,
     "metadata": {},
     "output_type": "execute_result"
    }
   ],
   "source": [
    "CV_model_predictions = CV_model.predict(X_test_race)\n",
    "CV_model_accuracy = accuracy_score(y_test_race, CV_model_predictions)\n",
    "CV_model_accuracy"
   ]
  },
  {
   "cell_type": "code",
   "execution_count": 55,
   "metadata": {},
   "outputs": [
    {
     "name": "stdout",
     "output_type": "stream",
     "text": [
      "             precision    recall  f1-score   support\n",
      "\n",
      "          1       0.87      0.83      0.85     81882\n",
      "          2       0.50      0.56      0.53     20883\n",
      "          3       0.45      0.48      0.47      9632\n",
      "          4       0.10      0.15      0.12      1628\n",
      "          5       0.06      0.07      0.07       180\n",
      "          6       0.39      0.36      0.38      4584\n",
      "\n",
      "avg / total       0.74      0.73      0.73    118789\n",
      "\n"
     ]
    }
   ],
   "source": [
    "CV_model_report = classification_report(y_test_race, CV_model_predictions)\n",
    "print(CV_model_report)"
   ]
  },
  {
   "cell_type": "code",
   "execution_count": 57,
   "metadata": {},
   "outputs": [
    {
     "data": {
      "text/html": [
       "<div>\n",
       "<style>\n",
       "    .dataframe thead tr:only-child th {\n",
       "        text-align: right;\n",
       "    }\n",
       "\n",
       "    .dataframe thead th {\n",
       "        text-align: left;\n",
       "    }\n",
       "\n",
       "    .dataframe tbody tr th {\n",
       "        vertical-align: top;\n",
       "    }\n",
       "</style>\n",
       "<table border=\"1\" class=\"dataframe\">\n",
       "  <thead>\n",
       "    <tr style=\"text-align: right;\">\n",
       "      <th>Predicted Race</th>\n",
       "      <th>1</th>\n",
       "      <th>2</th>\n",
       "      <th>3</th>\n",
       "      <th>4</th>\n",
       "      <th>5</th>\n",
       "      <th>6</th>\n",
       "    </tr>\n",
       "    <tr>\n",
       "      <th>Actual Race</th>\n",
       "      <th></th>\n",
       "      <th></th>\n",
       "      <th></th>\n",
       "      <th></th>\n",
       "      <th></th>\n",
       "      <th></th>\n",
       "    </tr>\n",
       "  </thead>\n",
       "  <tbody>\n",
       "    <tr>\n",
       "      <th>1</th>\n",
       "      <td>68214</td>\n",
       "      <td>8651</td>\n",
       "      <td>2288</td>\n",
       "      <td>1236</td>\n",
       "      <td>129</td>\n",
       "      <td>1364</td>\n",
       "    </tr>\n",
       "    <tr>\n",
       "      <th>2</th>\n",
       "      <td>5260</td>\n",
       "      <td>11727</td>\n",
       "      <td>2695</td>\n",
       "      <td>508</td>\n",
       "      <td>21</td>\n",
       "      <td>672</td>\n",
       "    </tr>\n",
       "    <tr>\n",
       "      <th>3</th>\n",
       "      <td>2512</td>\n",
       "      <td>1820</td>\n",
       "      <td>4655</td>\n",
       "      <td>193</td>\n",
       "      <td>19</td>\n",
       "      <td>433</td>\n",
       "    </tr>\n",
       "    <tr>\n",
       "      <th>4</th>\n",
       "      <td>779</td>\n",
       "      <td>360</td>\n",
       "      <td>129</td>\n",
       "      <td>245</td>\n",
       "      <td>2</td>\n",
       "      <td>113</td>\n",
       "    </tr>\n",
       "    <tr>\n",
       "      <th>5</th>\n",
       "      <td>107</td>\n",
       "      <td>20</td>\n",
       "      <td>31</td>\n",
       "      <td>7</td>\n",
       "      <td>12</td>\n",
       "      <td>3</td>\n",
       "    </tr>\n",
       "    <tr>\n",
       "      <th>6</th>\n",
       "      <td>1253</td>\n",
       "      <td>954</td>\n",
       "      <td>515</td>\n",
       "      <td>195</td>\n",
       "      <td>6</td>\n",
       "      <td>1661</td>\n",
       "    </tr>\n",
       "  </tbody>\n",
       "</table>\n",
       "</div>"
      ],
      "text/plain": [
       "Predicted Race      1      2     3     4    5     6\n",
       "Actual Race                                        \n",
       "1               68214   8651  2288  1236  129  1364\n",
       "2                5260  11727  2695   508   21   672\n",
       "3                2512   1820  4655   193   19   433\n",
       "4                 779    360   129   245    2   113\n",
       "5                 107     20    31     7   12     3\n",
       "6                1253    954   515   195    6  1661"
      ]
     },
     "execution_count": 57,
     "metadata": {},
     "output_type": "execute_result"
    }
   ],
   "source": [
    "pd.crosstab(y_test_race, CV_model_predictions, rownames=['Actual Race'], colnames=['Predicted Race'])"
   ]
  },
  {
   "cell_type": "markdown",
   "metadata": {},
   "source": [
    "We've taken a knock on overall f-1 score (and overall accuracy), but **our individual f-1 scores for class 4 and 5 are the highest we've been able to return!**\n",
    "\n",
    "Hard to know whether this is due to model tuning, or the even smaller slice of data.\n",
    "\n",
    "Let's compare it to a model with these ideal parameters on the \"full\" (but really, resampled) data:"
   ]
  },
  {
   "cell_type": "code",
   "execution_count": 58,
   "metadata": {},
   "outputs": [
    {
     "data": {
      "text/plain": [
       "RandomForestClassifier(bootstrap=True, class_weight=None, criterion='gini',\n",
       "            max_depth=250, max_features=100, max_leaf_nodes=None,\n",
       "            min_impurity_decrease=0.0, min_impurity_split=None,\n",
       "            min_samples_leaf=1, min_samples_split=5,\n",
       "            min_weight_fraction_leaf=0.0, n_estimators=300, n_jobs=-1,\n",
       "            oob_score=True, random_state=12, verbose=0, warm_start=False)"
      ]
     },
     "execution_count": 58,
     "metadata": {},
     "output_type": "execute_result"
    }
   ],
   "source": [
    "rus_clf_tuned = RandomForestClassifier(n_jobs=-1,max_features=100,n_estimators=300,max_depth=250,min_samples_split=5,\n",
    "                             min_samples_leaf=1,oob_score = True, random_state=12)\n",
    "\n",
    "rus_clf_tuned.fit(uX_train_race, uy_train_race)"
   ]
  },
  {
   "cell_type": "code",
   "execution_count": 59,
   "metadata": {},
   "outputs": [
    {
     "data": {
      "text/plain": [
       "0.75867294109723959"
      ]
     },
     "execution_count": 59,
     "metadata": {},
     "output_type": "execute_result"
    }
   ],
   "source": [
    "rus_clf_tuned_predictions = rus_clf_tuned.predict(X_test_race)\n",
    "rus_clf_tuned_accuracy = accuracy_score(y_test_race, rus_clf_tuned_predictions)\n",
    "rus_clf_tuned_accuracy"
   ]
  },
  {
   "cell_type": "code",
   "execution_count": 61,
   "metadata": {},
   "outputs": [
    {
     "name": "stdout",
     "output_type": "stream",
     "text": [
      "             precision    recall  f1-score   support\n",
      "\n",
      "          1       0.86      0.89      0.88     81882\n",
      "          2       0.59      0.47      0.52     20883\n",
      "          3       0.47      0.53      0.50      9632\n",
      "          4       0.15      0.07      0.09      1628\n",
      "          5       1.00      0.01      0.01       180\n",
      "          6       0.36      0.43      0.39      4584\n",
      "\n",
      "avg / total       0.75      0.76      0.75    118789\n",
      "\n"
     ]
    }
   ],
   "source": [
    "rus_clf_tuned_report = classification_report(y_test_race, rus_clf_tuned_predictions)\n",
    "print(rus_clf_tuned_report)"
   ]
  },
  {
   "cell_type": "code",
   "execution_count": 62,
   "metadata": {},
   "outputs": [
    {
     "data": {
      "text/html": [
       "<div>\n",
       "<style>\n",
       "    .dataframe thead tr:only-child th {\n",
       "        text-align: right;\n",
       "    }\n",
       "\n",
       "    .dataframe thead th {\n",
       "        text-align: left;\n",
       "    }\n",
       "\n",
       "    .dataframe tbody tr th {\n",
       "        vertical-align: top;\n",
       "    }\n",
       "</style>\n",
       "<table border=\"1\" class=\"dataframe\">\n",
       "  <thead>\n",
       "    <tr style=\"text-align: right;\">\n",
       "      <th>Predicted Race</th>\n",
       "      <th>1</th>\n",
       "      <th>2</th>\n",
       "      <th>3</th>\n",
       "      <th>4</th>\n",
       "      <th>5</th>\n",
       "      <th>6</th>\n",
       "    </tr>\n",
       "    <tr>\n",
       "      <th>Actual Race</th>\n",
       "      <th></th>\n",
       "      <th></th>\n",
       "      <th></th>\n",
       "      <th></th>\n",
       "      <th></th>\n",
       "      <th></th>\n",
       "    </tr>\n",
       "  </thead>\n",
       "  <tbody>\n",
       "    <tr>\n",
       "      <th>1</th>\n",
       "      <td>73114</td>\n",
       "      <td>4763</td>\n",
       "      <td>2080</td>\n",
       "      <td>316</td>\n",
       "      <td>0</td>\n",
       "      <td>1609</td>\n",
       "    </tr>\n",
       "    <tr>\n",
       "      <th>2</th>\n",
       "      <td>6755</td>\n",
       "      <td>9847</td>\n",
       "      <td>2985</td>\n",
       "      <td>178</td>\n",
       "      <td>0</td>\n",
       "      <td>1118</td>\n",
       "    </tr>\n",
       "    <tr>\n",
       "      <th>3</th>\n",
       "      <td>2751</td>\n",
       "      <td>1172</td>\n",
       "      <td>5099</td>\n",
       "      <td>71</td>\n",
       "      <td>0</td>\n",
       "      <td>539</td>\n",
       "    </tr>\n",
       "    <tr>\n",
       "      <th>4</th>\n",
       "      <td>915</td>\n",
       "      <td>253</td>\n",
       "      <td>148</td>\n",
       "      <td>112</td>\n",
       "      <td>0</td>\n",
       "      <td>200</td>\n",
       "    </tr>\n",
       "    <tr>\n",
       "      <th>5</th>\n",
       "      <td>130</td>\n",
       "      <td>14</td>\n",
       "      <td>32</td>\n",
       "      <td>1</td>\n",
       "      <td>1</td>\n",
       "      <td>2</td>\n",
       "    </tr>\n",
       "    <tr>\n",
       "      <th>6</th>\n",
       "      <td>1349</td>\n",
       "      <td>631</td>\n",
       "      <td>583</td>\n",
       "      <td>72</td>\n",
       "      <td>0</td>\n",
       "      <td>1949</td>\n",
       "    </tr>\n",
       "  </tbody>\n",
       "</table>\n",
       "</div>"
      ],
      "text/plain": [
       "Predicted Race      1     2     3    4  5     6\n",
       "Actual Race                                    \n",
       "1               73114  4763  2080  316  0  1609\n",
       "2                6755  9847  2985  178  0  1118\n",
       "3                2751  1172  5099   71  0   539\n",
       "4                 915   253   148  112  0   200\n",
       "5                 130    14    32    1  1     2\n",
       "6                1349   631   583   72  0  1949"
      ]
     },
     "execution_count": 62,
     "metadata": {},
     "output_type": "execute_result"
    }
   ],
   "source": [
    "pd.crosstab(y_test_race, rus_clf_tuned_predictions, rownames=['Actual Race'], colnames=['Predicted Race'])"
   ]
  },
  {
   "cell_type": "markdown",
   "metadata": {},
   "source": [
    "**Honestly not sure whether this model is better or worse than our \"base\" model\".** \n",
    "- The observed f-1 scores are the same. It almost never predicts class 5 - when it does, exactly once, it nails it! (this is just as likely due to random chance)\n",
    "- Overall accuracy is a tiny bit lower, but this is probably due to random chance.\n",
    "\n",
    "### We conclude that model tuning is not really improving our results. To the extent f-1 scores change or improve, it's likely due to data sampling."
   ]
  },
  {
   "cell_type": "code",
   "execution_count": 63,
   "metadata": {},
   "outputs": [
    {
     "data": {
      "text/plain": [
       "RandomForestClassifier(bootstrap=True, class_weight=None, criterion='gini',\n",
       "            max_depth=250, max_features=100, max_leaf_nodes=None,\n",
       "            min_impurity_decrease=0.0, min_impurity_split=None,\n",
       "            min_samples_leaf=1, min_samples_split=5,\n",
       "            min_weight_fraction_leaf=0.0, n_estimators=500, n_jobs=-1,\n",
       "            oob_score=True, random_state=12, verbose=0, warm_start=False)"
      ]
     },
     "execution_count": 63,
     "metadata": {},
     "output_type": "execute_result"
    }
   ],
   "source": [
    "#just to be sure, one more model with alot more trees.\n",
    "rus_tuned_trees = RandomForestClassifier(n_jobs=-1,max_features=100,n_estimators=500,max_depth=250,min_samples_split=5,\n",
    "                             min_samples_leaf=1,oob_score = True, random_state=12)\n",
    "\n",
    "rus_tuned_trees.fit(uX_train_race, uy_train_race)"
   ]
  },
  {
   "cell_type": "code",
   "execution_count": 64,
   "metadata": {},
   "outputs": [
    {
     "data": {
      "text/plain": [
       "0.75903492747644985"
      ]
     },
     "execution_count": 64,
     "metadata": {},
     "output_type": "execute_result"
    }
   ],
   "source": [
    "rus_tuned_trees_predictions = rus_tuned_trees.predict(X_test_race)\n",
    "rus_tuned_trees_accuracy = accuracy_score(y_test_race, rus_tuned_trees_predictions)\n",
    "rus_tuned_trees_accuracy"
   ]
  },
  {
   "cell_type": "code",
   "execution_count": 65,
   "metadata": {},
   "outputs": [
    {
     "name": "stdout",
     "output_type": "stream",
     "text": [
      "             precision    recall  f1-score   support\n",
      "\n",
      "          1       0.86      0.89      0.88     81882\n",
      "          2       0.59      0.47      0.52     20883\n",
      "          3       0.47      0.53      0.50      9632\n",
      "          4       0.16      0.07      0.10      1628\n",
      "          5       0.50      0.01      0.01       180\n",
      "          6       0.36      0.42      0.39      4584\n",
      "\n",
      "avg / total       0.75      0.76      0.75    118789\n",
      "\n"
     ]
    }
   ],
   "source": [
    "rus_tuned_trees_report = classification_report(y_test_race, rus_tuned_trees_predictions)\n",
    "print(rus_tuned_trees_report)"
   ]
  },
  {
   "cell_type": "code",
   "execution_count": 66,
   "metadata": {},
   "outputs": [
    {
     "data": {
      "text/html": [
       "<div>\n",
       "<style>\n",
       "    .dataframe thead tr:only-child th {\n",
       "        text-align: right;\n",
       "    }\n",
       "\n",
       "    .dataframe thead th {\n",
       "        text-align: left;\n",
       "    }\n",
       "\n",
       "    .dataframe tbody tr th {\n",
       "        vertical-align: top;\n",
       "    }\n",
       "</style>\n",
       "<table border=\"1\" class=\"dataframe\">\n",
       "  <thead>\n",
       "    <tr style=\"text-align: right;\">\n",
       "      <th>Predicted Race</th>\n",
       "      <th>1</th>\n",
       "      <th>2</th>\n",
       "      <th>3</th>\n",
       "      <th>4</th>\n",
       "      <th>5</th>\n",
       "      <th>6</th>\n",
       "    </tr>\n",
       "    <tr>\n",
       "      <th>Actual Race</th>\n",
       "      <th></th>\n",
       "      <th></th>\n",
       "      <th></th>\n",
       "      <th></th>\n",
       "      <th></th>\n",
       "      <th></th>\n",
       "    </tr>\n",
       "  </thead>\n",
       "  <tbody>\n",
       "    <tr>\n",
       "      <th>1</th>\n",
       "      <td>73153</td>\n",
       "      <td>4767</td>\n",
       "      <td>2060</td>\n",
       "      <td>311</td>\n",
       "      <td>1</td>\n",
       "      <td>1590</td>\n",
       "    </tr>\n",
       "    <tr>\n",
       "      <th>2</th>\n",
       "      <td>6759</td>\n",
       "      <td>9846</td>\n",
       "      <td>2988</td>\n",
       "      <td>169</td>\n",
       "      <td>0</td>\n",
       "      <td>1121</td>\n",
       "    </tr>\n",
       "    <tr>\n",
       "      <th>3</th>\n",
       "      <td>2741</td>\n",
       "      <td>1166</td>\n",
       "      <td>5106</td>\n",
       "      <td>72</td>\n",
       "      <td>0</td>\n",
       "      <td>547</td>\n",
       "    </tr>\n",
       "    <tr>\n",
       "      <th>4</th>\n",
       "      <td>917</td>\n",
       "      <td>256</td>\n",
       "      <td>145</td>\n",
       "      <td>115</td>\n",
       "      <td>0</td>\n",
       "      <td>195</td>\n",
       "    </tr>\n",
       "    <tr>\n",
       "      <th>5</th>\n",
       "      <td>132</td>\n",
       "      <td>14</td>\n",
       "      <td>30</td>\n",
       "      <td>1</td>\n",
       "      <td>1</td>\n",
       "      <td>2</td>\n",
       "    </tr>\n",
       "    <tr>\n",
       "      <th>6</th>\n",
       "      <td>1356</td>\n",
       "      <td>628</td>\n",
       "      <td>585</td>\n",
       "      <td>71</td>\n",
       "      <td>0</td>\n",
       "      <td>1944</td>\n",
       "    </tr>\n",
       "  </tbody>\n",
       "</table>\n",
       "</div>"
      ],
      "text/plain": [
       "Predicted Race      1     2     3    4  5     6\n",
       "Actual Race                                    \n",
       "1               73153  4767  2060  311  1  1590\n",
       "2                6759  9846  2988  169  0  1121\n",
       "3                2741  1166  5106   72  0   547\n",
       "4                 917   256   145  115  0   195\n",
       "5                 132    14    30    1  1     2\n",
       "6                1356   628   585   71  0  1944"
      ]
     },
     "execution_count": 66,
     "metadata": {},
     "output_type": "execute_result"
    }
   ],
   "source": [
    "pd.crosstab(y_test_race, rus_tuned_trees_predictions, rownames=['Actual Race'], colnames=['Predicted Race'])"
   ]
  },
  {
   "cell_type": "markdown",
   "metadata": {},
   "source": [
    "Growing more trees does absolutely nothing here."
   ]
  },
  {
   "cell_type": "markdown",
   "metadata": {},
   "source": [
    "### Alter Undersampling Proportions in hopes of increasing Class 4 and Class 5 f-1 Scores:"
   ]
  },
  {
   "cell_type": "code",
   "execution_count": 81,
   "metadata": {},
   "outputs": [
    {
     "data": {
      "text/plain": [
       "1    245078\n",
       "2     62863\n",
       "3     29118\n",
       "6     13824\n",
       "4      4933\n",
       "5       550\n",
       "Name: RACE, dtype: int64"
      ]
     },
     "execution_count": 81,
     "metadata": {},
     "output_type": "execute_result"
    }
   ],
   "source": [
    "y_train_race.value_counts()"
   ]
  },
  {
   "cell_type": "code",
   "execution_count": 117,
   "metadata": {
    "collapsed": true
   },
   "outputs": [],
   "source": [
    "#desired proportions (approx)\n",
    "#1    0.399202\n",
    "#2    0.239521\n",
    "#3    0.139721\n",
    "#6    0.119760\n",
    "#4    0.079840\n",
    "#5    0.021956\n",
    "\n",
    "smallest_class = 550 #we're at the mercy of only having 550 observed class = 5 in training; let's build around that\n",
    "cOne = int(smallest_class * 15) \n",
    "cTwo = int(smallest_class * 13)\n",
    "cThree = int(smallest_class * 11)\n",
    "cFour = 4933\n",
    "cFive = 550\n",
    "cSix = int(smallest_class * 9)"
   ]
  },
  {
   "cell_type": "code",
   "execution_count": 118,
   "metadata": {
    "collapsed": true
   },
   "outputs": [],
   "source": [
    "us_rs = RandomUnderSampler(ratio = {1:cOne, 2:cTwo, 3:cThree, 4:cFour, 5:cFive, 6:cSix}, random_state=12)\n",
    "\n",
    "#this time, ratio = auto means resample all except minority class\n",
    "rs_Xtr_r, rs_ytr_r = us_rs.fit_sample(X_train_race, y_train_race)"
   ]
  },
  {
   "cell_type": "code",
   "execution_count": 119,
   "metadata": {},
   "outputs": [
    {
     "data": {
      "text/plain": [
       "1    0.687714\n",
       "2    0.176400\n",
       "3    0.081708\n",
       "6    0.038792\n",
       "4    0.013843\n",
       "5    0.001543\n",
       "Name: RACE, dtype: float64"
      ]
     },
     "execution_count": 119,
     "metadata": {},
     "output_type": "execute_result"
    }
   ],
   "source": [
    "#old proportions\n",
    "y_train_race.value_counts(normalize=True)"
   ]
  },
  {
   "cell_type": "code",
   "execution_count": 120,
   "metadata": {},
   "outputs": [
    {
     "data": {
      "text/plain": [
       "1    0.258759\n",
       "2    0.224257\n",
       "3    0.189756\n",
       "6    0.155255\n",
       "4    0.154722\n",
       "5    0.017251\n",
       "dtype: float64"
      ]
     },
     "execution_count": 120,
     "metadata": {},
     "output_type": "execute_result"
    }
   ],
   "source": [
    "#new proportions\n",
    "new_resample = pd.Series(rs_ytr_r)\n",
    "new_resample.value_counts(normalize=True)"
   ]
  },
  {
   "cell_type": "markdown",
   "metadata": {},
   "source": [
    "### Random Forest on *new* under-sample, based on Tuned Parameters:\n",
    "- Skeptical that the tuning really improved the model that much.\n",
    "- But perhaps 5 samples per leaf and 100 features helps control variance; in essence, it's keeping us from going nuts with overpredicting our small classes in training data so accuracy doesn't fall off a cliff in the test set."
   ]
  },
  {
   "cell_type": "code",
   "execution_count": 121,
   "metadata": {},
   "outputs": [
    {
     "data": {
      "text/plain": [
       "RandomForestClassifier(bootstrap=True, class_weight=None, criterion='gini',\n",
       "            max_depth=250, max_features=100, max_leaf_nodes=None,\n",
       "            min_impurity_decrease=0.0, min_impurity_split=None,\n",
       "            min_samples_leaf=1, min_samples_split=5,\n",
       "            min_weight_fraction_leaf=0.0, n_estimators=300, n_jobs=-1,\n",
       "            oob_score=True, random_state=12, verbose=0, warm_start=False)"
      ]
     },
     "execution_count": 121,
     "metadata": {},
     "output_type": "execute_result"
    }
   ],
   "source": [
    "rs_rfc = RandomForestClassifier(n_jobs=-1,max_features=100,n_estimators=300,max_depth=250,min_samples_split=5,\n",
    "                             min_samples_leaf=1,oob_score = True, random_state=12)\n",
    "\n",
    "rs_rfc.fit(rs_Xtr_r, rs_ytr_r)"
   ]
  },
  {
   "cell_type": "code",
   "execution_count": 122,
   "metadata": {},
   "outputs": [
    {
     "data": {
      "text/plain": [
       "0.63962151377652809"
      ]
     },
     "execution_count": 122,
     "metadata": {},
     "output_type": "execute_result"
    }
   ],
   "source": [
    "rs_rfc_predictions = rs_rfc.predict(X_test_race)\n",
    "rs_rfc_accuracy = accuracy_score(y_test_race, rs_rfc_predictions)\n",
    "rs_rfc_accuracy"
   ]
  },
  {
   "cell_type": "code",
   "execution_count": 123,
   "metadata": {},
   "outputs": [
    {
     "name": "stdout",
     "output_type": "stream",
     "text": [
      "             precision    recall  f1-score   support\n",
      "\n",
      "          1       0.91      0.69      0.78     81882\n",
      "          2       0.48      0.54      0.51     20883\n",
      "          3       0.37      0.60      0.46      9632\n",
      "          4       0.07      0.46      0.12      1628\n",
      "          5       0.09      0.08      0.08       180\n",
      "          6       0.32      0.41      0.36      4584\n",
      "\n",
      "avg / total       0.75      0.64      0.68    118789\n",
      "\n"
     ]
    }
   ],
   "source": [
    "rs_rfc_report = classification_report(y_test_race, rs_rfc_predictions)\n",
    "print(rs_rfc_report)"
   ]
  },
  {
   "cell_type": "code",
   "execution_count": 124,
   "metadata": {},
   "outputs": [
    {
     "data": {
      "text/html": [
       "<div>\n",
       "<style>\n",
       "    .dataframe thead tr:only-child th {\n",
       "        text-align: right;\n",
       "    }\n",
       "\n",
       "    .dataframe thead th {\n",
       "        text-align: left;\n",
       "    }\n",
       "\n",
       "    .dataframe tbody tr th {\n",
       "        vertical-align: top;\n",
       "    }\n",
       "</style>\n",
       "<table border=\"1\" class=\"dataframe\">\n",
       "  <thead>\n",
       "    <tr style=\"text-align: right;\">\n",
       "      <th>Predicted Race</th>\n",
       "      <th>1</th>\n",
       "      <th>2</th>\n",
       "      <th>3</th>\n",
       "      <th>4</th>\n",
       "      <th>5</th>\n",
       "      <th>6</th>\n",
       "    </tr>\n",
       "    <tr>\n",
       "      <th>Actual Race</th>\n",
       "      <th></th>\n",
       "      <th></th>\n",
       "      <th></th>\n",
       "      <th></th>\n",
       "      <th></th>\n",
       "      <th></th>\n",
       "    </tr>\n",
       "  </thead>\n",
       "  <tbody>\n",
       "    <tr>\n",
       "      <th>1</th>\n",
       "      <td>56302</td>\n",
       "      <td>10328</td>\n",
       "      <td>5413</td>\n",
       "      <td>7271</td>\n",
       "      <td>114</td>\n",
       "      <td>2454</td>\n",
       "    </tr>\n",
       "    <tr>\n",
       "      <th>2</th>\n",
       "      <td>3241</td>\n",
       "      <td>11223</td>\n",
       "      <td>3551</td>\n",
       "      <td>1931</td>\n",
       "      <td>9</td>\n",
       "      <td>928</td>\n",
       "    </tr>\n",
       "    <tr>\n",
       "      <th>3</th>\n",
       "      <td>1356</td>\n",
       "      <td>1142</td>\n",
       "      <td>5818</td>\n",
       "      <td>801</td>\n",
       "      <td>9</td>\n",
       "      <td>506</td>\n",
       "    </tr>\n",
       "    <tr>\n",
       "      <th>4</th>\n",
       "      <td>395</td>\n",
       "      <td>176</td>\n",
       "      <td>168</td>\n",
       "      <td>755</td>\n",
       "      <td>4</td>\n",
       "      <td>130</td>\n",
       "    </tr>\n",
       "    <tr>\n",
       "      <th>5</th>\n",
       "      <td>62</td>\n",
       "      <td>24</td>\n",
       "      <td>37</td>\n",
       "      <td>35</td>\n",
       "      <td>14</td>\n",
       "      <td>8</td>\n",
       "    </tr>\n",
       "    <tr>\n",
       "      <th>6</th>\n",
       "      <td>794</td>\n",
       "      <td>604</td>\n",
       "      <td>688</td>\n",
       "      <td>624</td>\n",
       "      <td>6</td>\n",
       "      <td>1868</td>\n",
       "    </tr>\n",
       "  </tbody>\n",
       "</table>\n",
       "</div>"
      ],
      "text/plain": [
       "Predicted Race      1      2     3     4    5     6\n",
       "Actual Race                                        \n",
       "1               56302  10328  5413  7271  114  2454\n",
       "2                3241  11223  3551  1931    9   928\n",
       "3                1356   1142  5818   801    9   506\n",
       "4                 395    176   168   755    4   130\n",
       "5                  62     24    37    35   14     8\n",
       "6                 794    604   688   624    6  1868"
      ]
     },
     "execution_count": 124,
     "metadata": {},
     "output_type": "execute_result"
    }
   ],
   "source": [
    "pd.crosstab(y_test_race, rs_rfc_predictions, rownames=['Actual Race'], colnames=['Predicted Race'])"
   ]
  },
  {
   "cell_type": "markdown",
   "metadata": {},
   "source": [
    "**This model goes too far in our opinion.** We have three recall scores over 50% for the first time, and recall for class 4 is in the 40% range! But its accuracy is worse than guessing 1 every time."
   ]
  },
  {
   "cell_type": "markdown",
   "metadata": {},
   "source": [
    "### Our best model so far is the one we cross-validated on a 25k slice of data.\n",
    "- We feel this strikes the trade off between overall accuracy, overall f-1 scores, and individual f-1 scores.\n",
    "    - You can get higher overall accuracy by predicting race = 1 more.\n",
    "    - You can get better average f-1 scores by barely predicting race = 5\n",
    "    - But this model has our highest individual f-1 scores for race = 4 and race = 5 by sacrificing only .02 in average f-1 score.\n",
    "- **What good is a model for imputing data if it never imputes certain classes?**"
   ]
  },
  {
   "cell_type": "markdown",
   "metadata": {},
   "source": [
    "## Optimal Settings - Classification of Variable Race:\n",
    "\n",
    "small_rus = RandomUnderSampler(ratio = {1:10000, 2:6000, 3:3500, 4:2000, 5:550, 6:3000}, random_state=12) \n",
    "uRXtr_slice, uRytr_slice = small_rus.fit_sample(X_train_race, y_train_race)\n",
    "\n",
    "param_grid = {\n",
    "    'min_samples_split': [2, 3, 5, 10],\n",
    "    'max_features': ['auto', 100, 300]\n",
    "}\n",
    "\n",
    "CV_model = GridSearchCV(estimator=rus_clf, param_grid=param_grid, scoring='f1_micro', n_jobs=-1,\n",
    "                        return_train_score=False)\n",
    "\n",
    "Best params: RandomForestClassifier(n_jobs=-1,max_features=100,n_estimators=300,max_depth=250,min_samples_split=5,\n",
    "                             min_samples_leaf=1,oob_score = True, random_state=12)\n",
    "\n",
    "Accuracy: ~72.8%\n",
    "\n",
    "            precision    recall  f1-score   support\n",
    "\n",
    "          1       0.87      0.83      0.85     81882\n",
    "          2       0.50      0.56      0.53     20883\n",
    "          3       0.45      0.48      0.47      9632\n",
    "          4       0.10      0.15      0.12      1628\n",
    "          5       0.06      0.07      0.07       180\n",
    "          6       0.39      0.36      0.38      4584\n",
    "\n",
    "    avg / total       0.74      0.73      0.73    118789"
   ]
  }
 ],
 "metadata": {
  "kernelspec": {
   "display_name": "Python 3",
   "language": "python",
   "name": "python3"
  },
  "language_info": {
   "codemirror_mode": {
    "name": "ipython",
    "version": 3
   },
   "file_extension": ".py",
   "mimetype": "text/x-python",
   "name": "python",
   "nbconvert_exporter": "python",
   "pygments_lexer": "ipython3",
   "version": "3.6.1"
  }
 },
 "nbformat": 4,
 "nbformat_minor": 2
}
