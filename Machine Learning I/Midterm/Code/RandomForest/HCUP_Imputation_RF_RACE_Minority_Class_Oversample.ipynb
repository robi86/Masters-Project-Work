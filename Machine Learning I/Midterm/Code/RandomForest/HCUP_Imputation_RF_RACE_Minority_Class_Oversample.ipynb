{
 "cells": [
  {
   "cell_type": "code",
   "execution_count": 1,
   "metadata": {
    "collapsed": true
   },
   "outputs": [],
   "source": [
    "import numpy as np\n",
    "import pandas as pd\n",
    "import random\n",
    "from sklearn.model_selection import GridSearchCV\n",
    "from sklearn.ensemble import RandomForestClassifier\n",
    "from sklearn.model_selection import train_test_split\n",
    "from sklearn.metrics import accuracy_score, f1_score, classification_report\n",
    "from sklearn.feature_selection import SelectKBest\n",
    "from sklearn.pipeline import Pipeline\n",
    "from imblearn.over_sampling import ADASYN\n",
    "from imblearn.under_sampling import RandomUnderSampler\n",
    "from imblearn.over_sampling import RandomOverSampler \n",
    "from collections import Counter"
   ]
  },
  {
   "cell_type": "markdown",
   "metadata": {},
   "source": [
    "## Explore *Oversampling* for Random Forest Classifier RACE Variable\n",
    "- We have seen that our Random Forest classifier doesn't perform well on the observed data\n",
    "- Before pursuing **extremely computationally expensive** cross validatiion, we want to see how a few \"base\" random forests models do on **randomly oversampled** data.\n",
    "- We will use the library *adasyn* to create new, synthetic observations in our small classes via a nearest-neighbors method."
   ]
  },
  {
   "cell_type": "markdown",
   "metadata": {},
   "source": [
    "### Data Preparation and Cleaning\n",
    "- This is lengthy code, but hopefully should be clear."
   ]
  },
  {
   "cell_type": "code",
   "execution_count": 2,
   "metadata": {
    "collapsed": true
   },
   "outputs": [],
   "source": [
    "#Read in dataframe\n",
    "df = pd.read_csv(\"data_train.csv\")"
   ]
  },
  {
   "cell_type": "code",
   "execution_count": 3,
   "metadata": {
    "collapsed": true
   },
   "outputs": [],
   "source": [
    "#DATA CLEANING STEPS\n",
    "\n",
    "#Steps to clean data by dropping columns where the number of empty rows is >= 445,000\n",
    "dfComplete = df.dropna(1, thresh= 445000)\n",
    "# dfComplete.shape #Results in (494932,58)\n",
    "\n",
    "#Steps to clean data by dropping row where the number of empty columns is > 0\n",
    "dfCompleteAll = dfComplete.dropna(0, how=\"any\")\n",
    "# dfCompleteAll.shape #results in a dataframe of (476155,58)\n",
    "\n",
    "# dfCompleteAll.isnull().sum() #no more nulls in the dataset"
   ]
  },
  {
   "cell_type": "code",
   "execution_count": 4,
   "metadata": {},
   "outputs": [
    {
     "data": {
      "text/html": [
       "<div>\n",
       "<style>\n",
       "    .dataframe thead tr:only-child th {\n",
       "        text-align: right;\n",
       "    }\n",
       "\n",
       "    .dataframe thead th {\n",
       "        text-align: left;\n",
       "    }\n",
       "\n",
       "    .dataframe tbody tr th {\n",
       "        vertical-align: top;\n",
       "    }\n",
       "</style>\n",
       "<table border=\"1\" class=\"dataframe\">\n",
       "  <thead>\n",
       "    <tr style=\"text-align: right;\">\n",
       "      <th></th>\n",
       "      <th>ASOURCE</th>\n",
       "      <th>ATYPE</th>\n",
       "      <th>RACE</th>\n",
       "      <th>TOTCHG</th>\n",
       "      <th>ZIPINC_QRTL</th>\n",
       "    </tr>\n",
       "  </thead>\n",
       "  <tbody>\n",
       "    <tr>\n",
       "      <th>0</th>\n",
       "      <td>2</td>\n",
       "      <td>2</td>\n",
       "      <td>1</td>\n",
       "      <td>272123</td>\n",
       "      <td>3</td>\n",
       "    </tr>\n",
       "    <tr>\n",
       "      <th>1</th>\n",
       "      <td>2</td>\n",
       "      <td>2</td>\n",
       "      <td>1</td>\n",
       "      <td>209246</td>\n",
       "      <td>1</td>\n",
       "    </tr>\n",
       "    <tr>\n",
       "      <th>2</th>\n",
       "      <td>2</td>\n",
       "      <td>2</td>\n",
       "      <td>1</td>\n",
       "      <td>305474</td>\n",
       "      <td>1</td>\n",
       "    </tr>\n",
       "    <tr>\n",
       "      <th>3</th>\n",
       "      <td>2</td>\n",
       "      <td>2</td>\n",
       "      <td>1</td>\n",
       "      <td>202973</td>\n",
       "      <td>1</td>\n",
       "    </tr>\n",
       "    <tr>\n",
       "      <th>4</th>\n",
       "      <td>2</td>\n",
       "      <td>2</td>\n",
       "      <td>1</td>\n",
       "      <td>416072</td>\n",
       "      <td>1</td>\n",
       "    </tr>\n",
       "  </tbody>\n",
       "</table>\n",
       "</div>"
      ],
      "text/plain": [
       "   ASOURCE  ATYPE  RACE  TOTCHG  ZIPINC_QRTL\n",
       "0        2      2     1  272123            3\n",
       "1        2      2     1  209246            1\n",
       "2        2      2     1  305474            1\n",
       "3        2      2     1  202973            1\n",
       "4        2      2     1  416072            1"
      ]
     },
     "execution_count": 4,
     "metadata": {},
     "output_type": "execute_result"
    }
   ],
   "source": [
    "#Extract Dataframe of Variables for Classification\n",
    "y = dfCompleteAll[[\"ASOURCE\", \"ATYPE\", \"RACE\", \"TOTCHG\", \"ZIPINC_QRTL\"]]\n",
    "y.head()"
   ]
  },
  {
   "cell_type": "code",
   "execution_count": 5,
   "metadata": {
    "collapsed": true
   },
   "outputs": [],
   "source": [
    "\"\"\"The next step is to prepare variables for exploratory data analysis and feature\n",
    "selection using a random forest. \n",
    "\n",
    "Random forest does not require standardization of continuous variables or normalization\n",
    "of discrete variable. For categorical features, we will need to use pd.get_dummies or \n",
    "one hot encoding to create binary dummy variables. \n",
    "\"\"\"\n",
    "\n",
    "#First create two dataframes of int and float values to make things easier to work with \n",
    "columnNames = dfCompleteAll.columns\n",
    "dfFloat = pd.DataFrame()\n",
    "dfInt = pd.DataFrame()\n",
    "for name in columnNames:\n",
    "    if dfCompleteAll[name].dtype == float:\n",
    "        dfFloat = dfFloat.join(dfCompleteAll[name], how = \"right\")\n",
    "    else:\n",
    "        dfInt = dfInt.join(dfCompleteAll[name], how = \"right\")\n",
    "        \n",
    "#Convert all columns in DfFloat, except DISCWT, to integer values. Afterwards nominal features\n",
    "#will be one-hot encoded to create dummy variables, again we will not normalize or stadardize\n",
    "# numeric values. \n",
    "\n",
    "float_toInt = ['AGE', 'AMONTH', 'AWEEKEND', 'DIED', 'DISPUNIFORM', 'DXCCS1',\n",
    "       'DXCCS2', 'FEMALE', 'LOS', 'PAY1', 'HOSP_BEDSIZE', 'HOSP_CONTROL',\n",
    "       'HOSP_LOCTEACH']\n",
    "for digit in float_toInt:\n",
    "    dfFloat[digit] = dfFloat[digit].astype(int)"
   ]
  },
  {
   "cell_type": "code",
   "execution_count": 6,
   "metadata": {
    "collapsed": true,
    "scrolled": true
   },
   "outputs": [],
   "source": [
    "# In dfFloat we have the following columns and feature groupings. \n",
    "# For reference use feature_desc or call .unique() method on one of the columns\n",
    "\n",
    "# CONTINUOUS:\n",
    "dfFloatContinuous = dfFloat[[\"AGE\", \"DISCWT\"]]\n",
    "\n",
    "\n",
    "# NOMINAL:\n",
    "dfFloatNominal = dfFloat[['AMONTH', 'DISPUNIFORM', 'DXCCS1',\n",
    "       'DXCCS2', 'PAY1', 'HOSP_CONTROL','HOSP_LOCTEACH']]\n",
    "\n",
    "# BINARY & ORDINAL\n",
    "dfBinaryOrdinal = dfFloat[[\"DIED\", \"AWEEKEND\", \"FEMALE\", \"HOSP_BEDSIZE\"]]\n",
    "\n",
    "# DISCRETE\n",
    "dfDiscrete = dfFloat[[\"LOS\"]]"
   ]
  },
  {
   "cell_type": "code",
   "execution_count": 7,
   "metadata": {},
   "outputs": [
    {
     "data": {
      "text/plain": [
       "(475155, 556)"
      ]
     },
     "execution_count": 7,
     "metadata": {},
     "output_type": "execute_result"
    }
   ],
   "source": [
    "#Use pd.get_dummies to turn nominal variables into dummy variables by first setting all \n",
    "#values as string, a requirement of pd.get_dummies. \n",
    "\n",
    "dfFloatNominal = dfFloatNominal.loc[:].astype(str)\n",
    "    \n",
    "dfFloatNominal = pd.get_dummies(dfFloatNominal)\n",
    "dfFloatNominal.shape "
   ]
  },
  {
   "cell_type": "code",
   "execution_count": 8,
   "metadata": {
    "collapsed": true
   },
   "outputs": [],
   "source": [
    "#Normally here, we might turn values in dfFloatContinuous to normalized, however,\n",
    "#DTs and RFs do not require this. Later if we use a different classifier, we will need\n",
    "# to standardize or normalize. \n",
    "\n",
    "#Normalization: rescaling features to a range of [0, 1], a special case of min-max scaling.\n",
    "\n",
    "#Standardization: Often more practical, center the feature columns at mean 0 with \n",
    "# standard deviation 1 so that the feature columns take the form of a normal distribution, \n",
    "#This make it easier to learn the weights."
   ]
  },
  {
   "cell_type": "code",
   "execution_count": 9,
   "metadata": {},
   "outputs": [
    {
     "data": {
      "text/plain": [
       "(475155, 563)"
      ]
     },
     "execution_count": 9,
     "metadata": {},
     "output_type": "execute_result"
    }
   ],
   "source": [
    "# We can now recreate the original dfFloat dataframe as dfFloatPreprocessed which \n",
    "# will have variables ready for feature selection with RF. Next the same thing must be down\n",
    "#with dfInt\n",
    "list_of_dataframes = [dfFloatContinuous, dfBinaryOrdinal, dfDiscrete, dfFloatNominal]\n",
    "\n",
    "dfFloatPreprocessed = pd.DataFrame()\n",
    "for frame in list_of_dataframes:\n",
    "    dfFloatPreprocessed = dfFloatPreprocessed.join(frame, how = \"right\")\n",
    "dfFloatPreprocessed.shape"
   ]
  },
  {
   "cell_type": "code",
   "execution_count": 10,
   "metadata": {},
   "outputs": [
    {
     "data": {
      "text/plain": [
       "'\\nUncomment the code below to look at values in each column to see what needs to be dropped \\n'"
      ]
     },
     "execution_count": 10,
     "metadata": {},
     "output_type": "execute_result"
    }
   ],
   "source": [
    "#Prepare dfInt for preprocessing, starting with dropping respone variables\n",
    "dfInt = dfInt.drop([\"ASOURCE\", \"ATYPE\", \"RACE\", \"TOTCHG\", \"ZIPINC_QRTL\"], axis= 1)\n",
    "'''\n",
    "Uncomment the code below to look at values in each column to see what needs to be dropped \n",
    "'''\n",
    "\n",
    "# columnNamesInt = dfInt.columns\n",
    "\n",
    "# for name in columnNamesInt:\n",
    "#     print(name, dfInt[name].unique()) #Any values where 0,1 or ordinal e.g., DQTR we are good"
   ]
  },
  {
   "cell_type": "code",
   "execution_count": 11,
   "metadata": {
    "collapsed": true
   },
   "outputs": [],
   "source": [
    "#CMs are all binary, therefore, create a separate dataframe for these columns: \n",
    "dfCm = dfInt[['CM_AIDS', 'CM_ALCOHOL', 'CM_ANEMDEF',\n",
    "       'CM_ARTH', 'CM_BLDLOSS', 'CM_CHF', 'CM_CHRNLUNG', 'CM_COAG',\n",
    "       'CM_DEPRESS', 'CM_DM', 'CM_DMCX', 'CM_DRUG', 'CM_HTN_C', 'CM_HYPOTHY',\n",
    "       'CM_LIVER', 'CM_LYMPH', 'CM_LYTES', 'CM_METS', 'CM_NEURO', 'CM_OBESE',\n",
    "       'CM_PARA', 'CM_PERIVASC', 'CM_PSYCH', 'CM_PULMCIRC', 'CM_RENLFAIL',\n",
    "       'CM_TUMOR', 'CM_ULCER', 'CM_VALVE', 'CM_WGHTLOSS']]\n",
    "\n",
    "#Update the dfInt dataframe to a new dataframe:\n",
    "dfIntShort = dfInt.drop(['CM_AIDS', 'CM_ALCOHOL', 'CM_ANEMDEF',\n",
    "       'CM_ARTH', 'CM_BLDLOSS', 'CM_CHF', 'CM_CHRNLUNG', 'CM_COAG',\n",
    "       'CM_DEPRESS', 'CM_DM', 'CM_DMCX', 'CM_DRUG', 'CM_HTN_C', 'CM_HYPOTHY',\n",
    "       'CM_LIVER', 'CM_LYMPH', 'CM_LYTES', 'CM_METS', 'CM_NEURO', 'CM_OBESE',\n",
    "       'CM_PARA', 'CM_PERIVASC', 'CM_PSYCH', 'CM_PULMCIRC', 'CM_RENLFAIL',\n",
    "       'CM_TUMOR', 'CM_ULCER', 'CM_VALVE', 'CM_WGHTLOSS'],axis = 1)\n",
    "\n",
    "# columnNamesInt = dfIntShort.columns\n",
    "# for name in columnNamesInt:\n",
    "#     print(name, dfIntShort[name].unique()) #Any values where 0,1 or ordinal e.g., DQTR we are good"
   ]
  },
  {
   "cell_type": "code",
   "execution_count": 12,
   "metadata": {
    "collapsed": true
   },
   "outputs": [],
   "source": [
    "#Continue evaluating values in each column\n",
    "\n",
    "#Since NDX, NPR, ORPROC, TOTAL_DISC are all either Binary or Discerete variables, create a separate dataframe\n",
    "dfIntBinaryDiscrete = dfIntShort[[\"NDX\", \"NPR\", \"ORPROC\", \"TOTAL_DISC\"]]\n",
    "\n",
    "# Since DQTR, HOSPID, MDC, NIS_STRATUM, HOSP_REGION are all nominal variables, create a separate dataframe to \n",
    "#turn these into dummy variables. ALSO Drop \"KEY\" as this is the record id field: \n",
    "dfIntToDummies = dfIntShort.drop([\"KEY\", \"NDX\", \"NPR\", \"ORPROC\", \"TOTAL_DISC\"], axis= 1)\n"
   ]
  },
  {
   "cell_type": "code",
   "execution_count": 13,
   "metadata": {
    "collapsed": true
   },
   "outputs": [],
   "source": [
    "#Turn values in DQTR, HOSPID, MDC, NIS_STRATUM, HOSP_REGION to string\n",
    "dfIntToDummies = dfIntToDummies.loc[:].astype(str)\n",
    "\n",
    "#Use pd.get_dummies to turn nominal string values to binary dummy variables\n",
    "dfIntToDummies = pd.get_dummies(dfIntToDummies)\n",
    "# dfIntToDummies.head()"
   ]
  },
  {
   "cell_type": "code",
   "execution_count": 14,
   "metadata": {
    "collapsed": true
   },
   "outputs": [],
   "source": [
    "#Recombinet the three dataframes into a new preprocessed dataframe called dfIntPreprocessed\n",
    "intRecombine = [dfIntToDummies, dfCm, dfIntBinaryDiscrete]\n",
    "\n",
    "dfIntPreprocessed = pd.DataFrame()\n",
    "for df in intRecombine:\n",
    "    dfIntPreprocessed = dfIntPreprocessed.join(df, how = \"right\")\n",
    "    \n",
    "# dfIntPreprocessed.shape"
   ]
  },
  {
   "cell_type": "code",
   "execution_count": 15,
   "metadata": {},
   "outputs": [
    {
     "data": {
      "text/html": [
       "<div>\n",
       "<style>\n",
       "    .dataframe thead tr:only-child th {\n",
       "        text-align: right;\n",
       "    }\n",
       "\n",
       "    .dataframe thead th {\n",
       "        text-align: left;\n",
       "    }\n",
       "\n",
       "    .dataframe tbody tr th {\n",
       "        vertical-align: top;\n",
       "    }\n",
       "</style>\n",
       "<table border=\"1\" class=\"dataframe\">\n",
       "  <thead>\n",
       "    <tr style=\"text-align: right;\">\n",
       "      <th></th>\n",
       "      <th>AGE</th>\n",
       "      <th>DISCWT</th>\n",
       "      <th>DIED</th>\n",
       "      <th>AWEEKEND</th>\n",
       "      <th>FEMALE</th>\n",
       "      <th>HOSP_BEDSIZE</th>\n",
       "      <th>LOS</th>\n",
       "      <th>AMONTH_1</th>\n",
       "      <th>AMONTH_10</th>\n",
       "      <th>AMONTH_11</th>\n",
       "      <th>...</th>\n",
       "      <th>CM_PULMCIRC</th>\n",
       "      <th>CM_RENLFAIL</th>\n",
       "      <th>CM_TUMOR</th>\n",
       "      <th>CM_ULCER</th>\n",
       "      <th>CM_VALVE</th>\n",
       "      <th>CM_WGHTLOSS</th>\n",
       "      <th>NDX</th>\n",
       "      <th>NPR</th>\n",
       "      <th>ORPROC</th>\n",
       "      <th>TOTAL_DISC</th>\n",
       "    </tr>\n",
       "  </thead>\n",
       "  <tbody>\n",
       "    <tr>\n",
       "      <th>0</th>\n",
       "      <td>48</td>\n",
       "      <td>4.671227</td>\n",
       "      <td>0</td>\n",
       "      <td>0</td>\n",
       "      <td>0</td>\n",
       "      <td>1</td>\n",
       "      <td>83</td>\n",
       "      <td>0</td>\n",
       "      <td>0</td>\n",
       "      <td>1</td>\n",
       "      <td>...</td>\n",
       "      <td>0</td>\n",
       "      <td>0</td>\n",
       "      <td>0</td>\n",
       "      <td>0</td>\n",
       "      <td>0</td>\n",
       "      <td>1</td>\n",
       "      <td>18</td>\n",
       "      <td>7</td>\n",
       "      <td>1</td>\n",
       "      <td>409</td>\n",
       "    </tr>\n",
       "    <tr>\n",
       "      <th>1</th>\n",
       "      <td>66</td>\n",
       "      <td>4.671227</td>\n",
       "      <td>0</td>\n",
       "      <td>0</td>\n",
       "      <td>0</td>\n",
       "      <td>1</td>\n",
       "      <td>50</td>\n",
       "      <td>0</td>\n",
       "      <td>0</td>\n",
       "      <td>1</td>\n",
       "      <td>...</td>\n",
       "      <td>0</td>\n",
       "      <td>0</td>\n",
       "      <td>0</td>\n",
       "      <td>0</td>\n",
       "      <td>0</td>\n",
       "      <td>1</td>\n",
       "      <td>18</td>\n",
       "      <td>8</td>\n",
       "      <td>0</td>\n",
       "      <td>409</td>\n",
       "    </tr>\n",
       "    <tr>\n",
       "      <th>2</th>\n",
       "      <td>53</td>\n",
       "      <td>4.671227</td>\n",
       "      <td>0</td>\n",
       "      <td>0</td>\n",
       "      <td>0</td>\n",
       "      <td>1</td>\n",
       "      <td>65</td>\n",
       "      <td>0</td>\n",
       "      <td>0</td>\n",
       "      <td>1</td>\n",
       "      <td>...</td>\n",
       "      <td>0</td>\n",
       "      <td>0</td>\n",
       "      <td>0</td>\n",
       "      <td>0</td>\n",
       "      <td>0</td>\n",
       "      <td>1</td>\n",
       "      <td>18</td>\n",
       "      <td>6</td>\n",
       "      <td>0</td>\n",
       "      <td>409</td>\n",
       "    </tr>\n",
       "    <tr>\n",
       "      <th>3</th>\n",
       "      <td>27</td>\n",
       "      <td>4.671227</td>\n",
       "      <td>0</td>\n",
       "      <td>0</td>\n",
       "      <td>1</td>\n",
       "      <td>1</td>\n",
       "      <td>59</td>\n",
       "      <td>0</td>\n",
       "      <td>0</td>\n",
       "      <td>1</td>\n",
       "      <td>...</td>\n",
       "      <td>0</td>\n",
       "      <td>0</td>\n",
       "      <td>0</td>\n",
       "      <td>0</td>\n",
       "      <td>0</td>\n",
       "      <td>1</td>\n",
       "      <td>18</td>\n",
       "      <td>4</td>\n",
       "      <td>0</td>\n",
       "      <td>409</td>\n",
       "    </tr>\n",
       "    <tr>\n",
       "      <th>4</th>\n",
       "      <td>48</td>\n",
       "      <td>4.671227</td>\n",
       "      <td>1</td>\n",
       "      <td>0</td>\n",
       "      <td>0</td>\n",
       "      <td>1</td>\n",
       "      <td>77</td>\n",
       "      <td>0</td>\n",
       "      <td>0</td>\n",
       "      <td>1</td>\n",
       "      <td>...</td>\n",
       "      <td>1</td>\n",
       "      <td>1</td>\n",
       "      <td>0</td>\n",
       "      <td>0</td>\n",
       "      <td>0</td>\n",
       "      <td>1</td>\n",
       "      <td>18</td>\n",
       "      <td>8</td>\n",
       "      <td>0</td>\n",
       "      <td>409</td>\n",
       "    </tr>\n",
       "  </tbody>\n",
       "</table>\n",
       "<p>5 rows × 813 columns</p>\n",
       "</div>"
      ],
      "text/plain": [
       "   AGE    DISCWT  DIED  AWEEKEND  FEMALE  HOSP_BEDSIZE  LOS  AMONTH_1  \\\n",
       "0   48  4.671227     0         0       0             1   83         0   \n",
       "1   66  4.671227     0         0       0             1   50         0   \n",
       "2   53  4.671227     0         0       0             1   65         0   \n",
       "3   27  4.671227     0         0       1             1   59         0   \n",
       "4   48  4.671227     1         0       0             1   77         0   \n",
       "\n",
       "   AMONTH_10  AMONTH_11     ...      CM_PULMCIRC  CM_RENLFAIL  CM_TUMOR  \\\n",
       "0          0          1     ...                0            0         0   \n",
       "1          0          1     ...                0            0         0   \n",
       "2          0          1     ...                0            0         0   \n",
       "3          0          1     ...                0            0         0   \n",
       "4          0          1     ...                1            1         0   \n",
       "\n",
       "   CM_ULCER  CM_VALVE  CM_WGHTLOSS  NDX  NPR  ORPROC  TOTAL_DISC  \n",
       "0         0         0            1   18    7       1         409  \n",
       "1         0         0            1   18    8       0         409  \n",
       "2         0         0            1   18    6       0         409  \n",
       "3         0         0            1   18    4       0         409  \n",
       "4         0         0            1   18    8       0         409  \n",
       "\n",
       "[5 rows x 813 columns]"
      ]
     },
     "execution_count": 15,
     "metadata": {},
     "output_type": "execute_result"
    }
   ],
   "source": [
    "#Combine the now preprocessed dfInt and dfFloat dataframes back in a single dataframe of either discrete, continuous,\n",
    "#or binary variables. \n",
    "dfPreprocessed = dfFloatPreprocessed.join(dfIntPreprocessed, how = \"right\")\n",
    "arrayPreprocessed = np.array(dfPreprocessed)\n",
    "dfPreprocessed.head() #these are our predictors"
   ]
  },
  {
   "cell_type": "markdown",
   "metadata": {},
   "source": [
    "## RACE Variable Class Distribution:"
   ]
  },
  {
   "cell_type": "code",
   "execution_count": 16,
   "metadata": {},
   "outputs": [
    {
     "data": {
      "text/plain": [
       "1    326960\n",
       "2     83746\n",
       "3     38750\n",
       "6     18408\n",
       "4      6561\n",
       "5       730\n",
       "Name: RACE, dtype: int64"
      ]
     },
     "execution_count": 16,
     "metadata": {},
     "output_type": "execute_result"
    },
    {
     "data": {
      "image/png": "[encoded data removed]",
      "text/plain": [
       "<matplotlib.figure.Figure at 0x176f45668>"
      ]
     },
     "metadata": {},
     "output_type": "display_data"
    }
   ],
   "source": [
    "#Look at distribution of Race\n",
    "import matplotlib.pyplot as plt\n",
    "%matplotlib inline\n",
    "plt.hist(y[\"RACE\"], histtype=\"bar\")\n",
    "plt.title(\"Distribution of Race\")\n",
    "plt.ylabel(\"Count\")\n",
    "plt.xlabel(\"Race\")\n",
    "\n",
    "y.RACE.value_counts()"
   ]
  },
  {
   "cell_type": "code",
   "execution_count": 17,
   "metadata": {
    "collapsed": true
   },
   "outputs": [],
   "source": [
    "#before we do anything, we need to plug our DFs back together so other features can help predict race.\n",
    "dfFull = pd.concat([dfPreprocessed, y], axis=1)\n",
    "\n",
    "X_race = dfFull.drop(['RACE'], axis=1) #all columns except race\n",
    "y_race = dfFull.RACE #RACE column\n",
    "\n",
    "#CRUCIALLY, must do a train test split before any resampling; we HAVE to hold out observed test data\n",
    "race_X_tr, race_X_te, race_y_tr, race_y_te = train_test_split(X_race, y_race, test_size = 0.33,\n",
    "                                                                       random_state = 12)"
   ]
  },
  {
   "cell_type": "code",
   "execution_count": 18,
   "metadata": {
    "collapsed": true
   },
   "outputs": [],
   "source": [
    "#fitting a random forest with 800 attributes and 475k rows ain't gonna fly on my MacBook Air. \n",
    "#so we'll randomly sample 50,000 rows of our X, y train splits; then we'll make some data from there\n",
    "\n",
    "#we actually have to plug these dfs back together; this is inefficient code but want to ensure \n",
    "#train/test are kept fully separate with no information bleed\n",
    "\n",
    "fullTrain = pd.concat([race_X_tr, race_y_tr], axis=1) #this is a full df of all 318 rows in train split\n",
    "sampleTrain = fullTrain.sample(n=50000, random_state=12) #now pluck 50k rows from this 318k row df\n",
    "\n",
    "#now split out into variables again. I didn't say this code was efficient, but it's hopefully clear\n",
    "sample_race_X_tr = sampleTrain.drop(['RACE'], axis=1) \n",
    "sample_race_y_tr = sampleTrain.RACE"
   ]
  },
  {
   "cell_type": "markdown",
   "metadata": {},
   "source": [
    "We will use these sample_race_X_train and sample_race_X_test for over- and under-sampling."
   ]
  },
  {
   "cell_type": "markdown",
   "metadata": {
    "collapsed": true
   },
   "source": [
    "## Experiment with Two Methods of Oversampling Minority Classes:"
   ]
  },
  {
   "cell_type": "markdown",
   "metadata": {},
   "source": [
    "### Synthentic Oversampling\n",
    "- We make up data \"similar\" (questionable in high dimension space) to the observed data for minority classes"
   ]
  },
  {
   "cell_type": "code",
   "execution_count": 94,
   "metadata": {
    "collapsed": true
   },
   "outputs": [],
   "source": [
    "ada = ADASYN(ratio = 'all', random_state = 12, n_jobs = -1) \n",
    "ada_rXtr, ada_rytr = ada.fit_sample(sample_race_X_tr, sample_race_y_tr) #creates numpy arrays"
   ]
  },
  {
   "cell_type": "code",
   "execution_count": 98,
   "metadata": {},
   "outputs": [
    {
     "name": "stdout",
     "output_type": "stream",
     "text": [
      "Old Counts:\n",
      "1    34302\n",
      "2     8903\n",
      "3     4137\n",
      "6     1932\n",
      "4      653\n",
      "5       73\n",
      "Name: RACE, dtype: int64\n",
      "Resdampled Counts: Counter({3: 35615, 5: 34310, 1: 34302, 4: 34215, 6: 33915, 2: 32494})\n"
     ]
    }
   ],
   "source": [
    "old_counts = sample_race_y_tr.value_counts()\n",
    "new_counts = Counter(ada_rytr)\n",
    "\n",
    "print(\"Old Counts:\")\n",
    "print(old_counts)\n",
    "\n",
    "print(\"Resampled Counts: {}\".format(new_counts))"
   ]
  },
  {
   "cell_type": "markdown",
   "metadata": {},
   "source": [
    "### Random forest on ADASYN Sample:"
   ]
  },
  {
   "cell_type": "code",
   "execution_count": 99,
   "metadata": {},
   "outputs": [
    {
     "data": {
      "text/plain": [
       "RandomForestClassifier(bootstrap=True, class_weight=None, criterion='gini',\n",
       "            max_depth=250, max_features='auto', max_leaf_nodes=None,\n",
       "            min_impurity_decrease=0.0, min_impurity_split=None,\n",
       "            min_samples_leaf=1, min_samples_split=5,\n",
       "            min_weight_fraction_leaf=0.0, n_estimators=400, n_jobs=-1,\n",
       "            oob_score=True, random_state=12, verbose=0, warm_start=False)"
      ]
     },
     "execution_count": 99,
     "metadata": {},
     "output_type": "execute_result"
    }
   ],
   "source": [
    "ada_clf = RandomForestClassifier(n_jobs=-1,max_features='auto',n_estimators=400,max_depth=250,min_samples_split=5,\n",
    "                             min_samples_leaf=1,oob_score = True,random_state=12)\n",
    "\n",
    "\n",
    "ada_clf.fit(ada_rXtr, ada_rytr)"
   ]
  },
  {
   "cell_type": "code",
   "execution_count": 100,
   "metadata": {},
   "outputs": [
    {
     "name": "stdout",
     "output_type": "stream",
     "text": [
      "ADASYN Model Accuracy Score: 0.7650922819861992\n"
     ]
    }
   ],
   "source": [
    "ada_model_predictions = ada_clf.predict(race_X_te)\n",
    "ada_model_accuracy = accuracy_score(race_y_te, ada_model_predictions)\n",
    "print('ADASYN Model Accuracy Score: {}'.format(ada_model_accuracy))"
   ]
  },
  {
   "cell_type": "code",
   "execution_count": 102,
   "metadata": {},
   "outputs": [
    {
     "data": {
      "text/html": [
       "<div>\n",
       "<style>\n",
       "    .dataframe thead tr:only-child th {\n",
       "        text-align: right;\n",
       "    }\n",
       "\n",
       "    .dataframe thead th {\n",
       "        text-align: left;\n",
       "    }\n",
       "\n",
       "    .dataframe tbody tr th {\n",
       "        vertical-align: top;\n",
       "    }\n",
       "</style>\n",
       "<table border=\"1\" class=\"dataframe\">\n",
       "  <thead>\n",
       "    <tr style=\"text-align: right;\">\n",
       "      <th>Predicted Race</th>\n",
       "      <th>1</th>\n",
       "      <th>2</th>\n",
       "      <th>3</th>\n",
       "      <th>4</th>\n",
       "      <th>6</th>\n",
       "    </tr>\n",
       "    <tr>\n",
       "      <th>Actual Race</th>\n",
       "      <th></th>\n",
       "      <th></th>\n",
       "      <th></th>\n",
       "      <th></th>\n",
       "      <th></th>\n",
       "    </tr>\n",
       "  </thead>\n",
       "  <tbody>\n",
       "    <tr>\n",
       "      <th>1</th>\n",
       "      <td>104332</td>\n",
       "      <td>3141</td>\n",
       "      <td>483</td>\n",
       "      <td>14</td>\n",
       "      <td>114</td>\n",
       "    </tr>\n",
       "    <tr>\n",
       "      <th>2</th>\n",
       "      <td>14817</td>\n",
       "      <td>9977</td>\n",
       "      <td>2494</td>\n",
       "      <td>3</td>\n",
       "      <td>199</td>\n",
       "    </tr>\n",
       "    <tr>\n",
       "      <th>3</th>\n",
       "      <td>6113</td>\n",
       "      <td>2215</td>\n",
       "      <td>4363</td>\n",
       "      <td>5</td>\n",
       "      <td>105</td>\n",
       "    </tr>\n",
       "    <tr>\n",
       "      <th>4</th>\n",
       "      <td>1659</td>\n",
       "      <td>386</td>\n",
       "      <td>90</td>\n",
       "      <td>3</td>\n",
       "      <td>25</td>\n",
       "    </tr>\n",
       "    <tr>\n",
       "      <th>5</th>\n",
       "      <td>205</td>\n",
       "      <td>15</td>\n",
       "      <td>18</td>\n",
       "      <td>0</td>\n",
       "      <td>1</td>\n",
       "    </tr>\n",
       "    <tr>\n",
       "      <th>6</th>\n",
       "      <td>2953</td>\n",
       "      <td>1257</td>\n",
       "      <td>517</td>\n",
       "      <td>5</td>\n",
       "      <td>1293</td>\n",
       "    </tr>\n",
       "  </tbody>\n",
       "</table>\n",
       "</div>"
      ],
      "text/plain": [
       "Predicted Race       1     2     3   4     6\n",
       "Actual Race                                 \n",
       "1               104332  3141   483  14   114\n",
       "2                14817  9977  2494   3   199\n",
       "3                 6113  2215  4363   5   105\n",
       "4                 1659   386    90   3    25\n",
       "5                  205    15    18   0     1\n",
       "6                 2953  1257   517   5  1293"
      ]
     },
     "execution_count": 102,
     "metadata": {},
     "output_type": "execute_result"
    }
   ],
   "source": [
    "pd.crosstab(race_y_te, ada_model_predictions, rownames=['Actual Race'], colnames=['Predicted Race'])"
   ]
  },
  {
   "cell_type": "code",
   "execution_count": 101,
   "metadata": {},
   "outputs": [
    {
     "name": "stdout",
     "output_type": "stream",
     "text": [
      "             precision    recall  f1-score   support\n",
      "\n",
      "          1       0.80      0.97      0.88    108084\n",
      "          2       0.59      0.36      0.45     27490\n",
      "          3       0.55      0.34      0.42     12801\n",
      "          4       0.10      0.00      0.00      2163\n",
      "          5       0.00      0.00      0.00       239\n",
      "          6       0.74      0.21      0.33      6025\n",
      "\n",
      "avg / total       0.73      0.77      0.73    156802\n",
      "\n"
     ]
    },
    {
     "name": "stderr",
     "output_type": "stream",
     "text": [
      "/Users/nathanzencey1/anaconda/lib/python3.6/site-packages/sklearn/metrics/classification.py:1135: UndefinedMetricWarning: Precision and F-score are ill-defined and being set to 0.0 in labels with no predicted samples.\n",
      "  'precision', 'predicted', average, warn_for)\n"
     ]
    }
   ],
   "source": [
    "ada_model_report = classification_report(race_y_te, ada_model_predictions)\n",
    "print(ada_model_report)"
   ]
  },
  {
   "cell_type": "markdown",
   "metadata": {},
   "source": [
    "Don't even understand how it can be so bad, but OK."
   ]
  },
  {
   "cell_type": "markdown",
   "metadata": {},
   "source": [
    "## Random Oversample with Completely Equal Class Counts\n",
    "- Let's see if completely equal class counts produce better results."
   ]
  },
  {
   "cell_type": "code",
   "execution_count": 116,
   "metadata": {
    "collapsed": true
   },
   "outputs": [],
   "source": [
    "ros = RandomOverSampler(random_state=12) #automatically oversamples minority classes to be equal with maj\n",
    "ros_rXtr, ros_rytr = ros.fit_sample(sample_race_X_tr, sample_race_y_tr) #creates numpy arrays"
   ]
  },
  {
   "cell_type": "code",
   "execution_count": 117,
   "metadata": {},
   "outputs": [
    {
     "data": {
      "text/plain": [
       "Counter({1: 34302, 2: 34302, 3: 34302, 4: 34302, 5: 34302, 6: 34302})"
      ]
     },
     "execution_count": 117,
     "metadata": {},
     "output_type": "execute_result"
    }
   ],
   "source": [
    "ros_counts = Counter(ros_rytr)\n",
    "ros_counts"
   ]
  },
  {
   "cell_type": "code",
   "execution_count": 118,
   "metadata": {},
   "outputs": [
    {
     "data": {
      "text/plain": [
       "RandomForestClassifier(bootstrap=True, class_weight=None, criterion='gini',\n",
       "            max_depth=250, max_features='auto', max_leaf_nodes=None,\n",
       "            min_impurity_decrease=0.0, min_impurity_split=None,\n",
       "            min_samples_leaf=1, min_samples_split=5,\n",
       "            min_weight_fraction_leaf=0.0, n_estimators=400, n_jobs=-1,\n",
       "            oob_score=True, random_state=12, verbose=0, warm_start=False)"
      ]
     },
     "execution_count": 118,
     "metadata": {},
     "output_type": "execute_result"
    }
   ],
   "source": [
    "ros_clf = RandomForestClassifier(n_jobs=-1,max_features='auto',n_estimators=400,max_depth=250,min_samples_split=5,\n",
    "                             min_samples_leaf=1,oob_score = True,random_state=12)\n",
    "\n",
    "\n",
    "ros_clf.fit(ros_rXtr, ros_rytr)"
   ]
  },
  {
   "cell_type": "code",
   "execution_count": 119,
   "metadata": {},
   "outputs": [
    {
     "data": {
      "text/plain": [
       "0.7635680667338427"
      ]
     },
     "execution_count": 119,
     "metadata": {},
     "output_type": "execute_result"
    }
   ],
   "source": [
    "ros_model_predictions = ros_clf.predict(race_X_te)\n",
    "ros_model_accuracy = accuracy_score(race_y_te, ros_model_predictions)\n",
    "ros_model_accuracy"
   ]
  },
  {
   "cell_type": "code",
   "execution_count": 121,
   "metadata": {},
   "outputs": [
    {
     "name": "stdout",
     "output_type": "stream",
     "text": [
      "             precision    recall  f1-score   support\n",
      "\n",
      "          1       0.84      0.92      0.88    108084\n",
      "          2       0.54      0.50      0.52     27490\n",
      "          3       0.51      0.38      0.44     12801\n",
      "          4       0.09      0.01      0.02      2163\n",
      "          5       0.33      0.00      0.01       239\n",
      "          6       0.63      0.25      0.36      6025\n",
      "\n",
      "avg / total       0.74      0.76      0.74    156802\n",
      "\n"
     ]
    }
   ],
   "source": [
    "ros_model_report = classification_report(race_y_te, ros_model_predictions)\n",
    "print(ros_model_report)"
   ]
  },
  {
   "cell_type": "code",
   "execution_count": 122,
   "metadata": {},
   "outputs": [
    {
     "data": {
      "text/html": [
       "<div>\n",
       "<style>\n",
       "    .dataframe thead tr:only-child th {\n",
       "        text-align: right;\n",
       "    }\n",
       "\n",
       "    .dataframe thead th {\n",
       "        text-align: left;\n",
       "    }\n",
       "\n",
       "    .dataframe tbody tr th {\n",
       "        vertical-align: top;\n",
       "    }\n",
       "</style>\n",
       "<table border=\"1\" class=\"dataframe\">\n",
       "  <thead>\n",
       "    <tr style=\"text-align: right;\">\n",
       "      <th>Predicted Race</th>\n",
       "      <th>1</th>\n",
       "      <th>2</th>\n",
       "      <th>3</th>\n",
       "      <th>4</th>\n",
       "      <th>5</th>\n",
       "      <th>6</th>\n",
       "    </tr>\n",
       "    <tr>\n",
       "      <th>Actual Race</th>\n",
       "      <th></th>\n",
       "      <th></th>\n",
       "      <th></th>\n",
       "      <th></th>\n",
       "      <th></th>\n",
       "      <th></th>\n",
       "    </tr>\n",
       "  </thead>\n",
       "  <tbody>\n",
       "    <tr>\n",
       "      <th>1</th>\n",
       "      <td>99477</td>\n",
       "      <td>7042</td>\n",
       "      <td>1118</td>\n",
       "      <td>91</td>\n",
       "      <td>0</td>\n",
       "      <td>356</td>\n",
       "    </tr>\n",
       "    <tr>\n",
       "      <th>2</th>\n",
       "      <td>10485</td>\n",
       "      <td>13834</td>\n",
       "      <td>2825</td>\n",
       "      <td>39</td>\n",
       "      <td>1</td>\n",
       "      <td>306</td>\n",
       "    </tr>\n",
       "    <tr>\n",
       "      <th>3</th>\n",
       "      <td>4993</td>\n",
       "      <td>2720</td>\n",
       "      <td>4889</td>\n",
       "      <td>25</td>\n",
       "      <td>0</td>\n",
       "      <td>174</td>\n",
       "    </tr>\n",
       "    <tr>\n",
       "      <th>4</th>\n",
       "      <td>1427</td>\n",
       "      <td>540</td>\n",
       "      <td>133</td>\n",
       "      <td>18</td>\n",
       "      <td>0</td>\n",
       "      <td>45</td>\n",
       "    </tr>\n",
       "    <tr>\n",
       "      <th>5</th>\n",
       "      <td>183</td>\n",
       "      <td>27</td>\n",
       "      <td>25</td>\n",
       "      <td>2</td>\n",
       "      <td>1</td>\n",
       "      <td>1</td>\n",
       "    </tr>\n",
       "    <tr>\n",
       "      <th>6</th>\n",
       "      <td>2349</td>\n",
       "      <td>1523</td>\n",
       "      <td>621</td>\n",
       "      <td>21</td>\n",
       "      <td>1</td>\n",
       "      <td>1510</td>\n",
       "    </tr>\n",
       "  </tbody>\n",
       "</table>\n",
       "</div>"
      ],
      "text/plain": [
       "Predicted Race      1      2     3   4  5     6\n",
       "Actual Race                                    \n",
       "1               99477   7042  1118  91  0   356\n",
       "2               10485  13834  2825  39  1   306\n",
       "3                4993   2720  4889  25  0   174\n",
       "4                1427    540   133  18  0    45\n",
       "5                 183     27    25   2  1     1\n",
       "6                2349   1523   621  21  1  1510"
      ]
     },
     "execution_count": 122,
     "metadata": {},
     "output_type": "execute_result"
    }
   ],
   "source": [
    "pd.crosstab(race_y_te, ros_model_predictions, rownames=['Actual Race'], colnames=['Predicted Race'])"
   ]
  },
  {
   "cell_type": "markdown",
   "metadata": {
    "collapsed": true
   },
   "source": [
    "### We find that systematic oversampling (somewhat surprisingly) does little to improve model performance. We choose to pursue a majority class undersampling strategy (see accompanying .ipynb)."
   ]
  },
  {
   "cell_type": "code",
   "execution_count": null,
   "metadata": {
    "collapsed": true
   },
   "outputs": [],
   "source": []
  }
 ],
 "metadata": {
  "kernelspec": {
   "display_name": "Python 3",
   "language": "python",
   "name": "python3"
  },
  "language_info": {
   "codemirror_mode": {
    "name": "ipython",
    "version": 3
   },
   "file_extension": ".py",
   "mimetype": "text/x-python",
   "name": "python",
   "nbconvert_exporter": "python",
   "pygments_lexer": "ipython3",
   "version": "3.6.1"
  }
 },
 "nbformat": 4,
 "nbformat_minor": 2
}
